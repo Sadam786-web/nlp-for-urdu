{
 "cells": [
  {
   "cell_type": "code",
   "execution_count": 1,
   "metadata": {},
   "outputs": [],
   "source": [
    "import sentencepiece as spm\n",
    "import pickle\n",
    "import pathlib"
   ]
  },
  {
   "cell_type": "code",
   "execution_count": 2,
   "metadata": {},
   "outputs": [],
   "source": [
    "path = pathlib.Path('/home/anurag/practice/nlp-for-marathi/language-model')"
   ]
  },
  {
   "cell_type": "code",
   "execution_count": 3,
   "metadata": {},
   "outputs": [],
   "source": [
    "p = path.glob('UrduWikipediaArticles/*')\n",
    "files = [x for x in p if x.is_file()]"
   ]
  },
  {
   "cell_type": "code",
   "execution_count": 4,
   "metadata": {},
   "outputs": [
    {
     "data": {
      "text/plain": [
       "153814"
      ]
     },
     "execution_count": 4,
     "metadata": {},
     "output_type": "execute_result"
    }
   ],
   "source": [
    "len(files)"
   ]
  },
  {
   "cell_type": "code",
   "execution_count": 5,
   "metadata": {},
   "outputs": [],
   "source": [
    "files = [str(file) for file in files]"
   ]
  },
  {
   "cell_type": "code",
   "execution_count": 6,
   "metadata": {},
   "outputs": [],
   "source": [
    "flist = ','.join(files)"
   ]
  },
  {
   "cell_type": "code",
   "execution_count": 7,
   "metadata": {},
   "outputs": [
    {
     "data": {
      "text/plain": [
       "True"
      ]
     },
     "execution_count": 7,
     "metadata": {},
     "output_type": "execute_result"
    }
   ],
   "source": [
    "spm.SentencePieceTrainer.Train(f'--input={flist} --model_prefix=urdu_lm --vocab_size=30000')"
   ]
  },
  {
   "cell_type": "code",
   "execution_count": 9,
   "metadata": {},
   "outputs": [],
   "source": [
    "with open(path/'UrduWikipediaArticles/1781.pkl', 'rb') as f:\n",
    "    text = pickle.load(f)"
   ]
  },
  {
   "cell_type": "code",
   "execution_count": 10,
   "metadata": {},
   "outputs": [
    {
     "data": {
      "text/plain": [
       "'برازیل قومی فٹ بال ٹیماسے برزیلی فٹبال کنفیڈریشن چلاتی ہے۔ یہ ٹیم 1923 سے فیفا اور 1916 سے جنوبی امریکی فٹبال فیڈریشن کا رکن ہے۔ برازیلی ٹیم فیفا عالمی فٹبال کپ کی تاریخ میں سب سے نمایاں ٹیم ہے جیسا کہ اسنے پانچ دفعہ عالم کپ جیتا ہے۔ جو بالترتیب یہ ہیں۔ 1958 فیفا عالمی کپ,1962 فیفا عالمی کپ ،1970 فیفا عالمی کپ ،1994 فیفا عالمی کپ اور 2002 فیفا عالمی کپ۔وہ فیفا کنفیڈریشن کپ میں چار تمغوں کے ساتھ سب سے نمایاں ٹیم ہے۔ برازیل دنیا کا واحد ٹیم ہے جس نے تمام عالمی فٹ بال مقابلوں میں حصہ لیا ہے۔ یہ واحد ٹیم ہے جس نے دنیا کے چار مختلف براعظموں میں فیفا عالمی کپ جیتا ہے۔ برازیل 2014 فیفا عالمی کپ کی میزبانی بھی کر رہا ہے۔ \\nبرازیل کی فٹ بال ٹیم کی کٹ کا پہلا رنگ سفید اور نیلا تھا۔ \\n'"
      ]
     },
     "execution_count": 10,
     "metadata": {},
     "output_type": "execute_result"
    }
   ],
   "source": [
    "text"
   ]
  },
  {
   "cell_type": "code",
   "execution_count": 11,
   "metadata": {},
   "outputs": [],
   "source": [
    "sp = spm.SentencePieceProcessor()"
   ]
  },
  {
   "cell_type": "code",
   "execution_count": 14,
   "metadata": {},
   "outputs": [
    {
     "data": {
      "text/plain": [
       "True"
      ]
     },
     "execution_count": 14,
     "metadata": {},
     "output_type": "execute_result"
    }
   ],
   "source": [
    "sp.Load(\"urdu_lm.model\")"
   ]
  },
  {
   "cell_type": "code",
   "execution_count": 15,
   "metadata": {},
   "outputs": [
    {
     "data": {
      "text/plain": [
       "['▁برازیل',\n",
       " '▁قومی',\n",
       " '▁فٹ',\n",
       " '▁بال',\n",
       " '▁ٹیم',\n",
       " 'اسے',\n",
       " '▁بر',\n",
       " 'زیل',\n",
       " 'ی',\n",
       " '▁فٹبال',\n",
       " '▁کنفیڈریشن',\n",
       " '▁چلاتی',\n",
       " '▁ہے۔',\n",
       " '▁یہ',\n",
       " '▁ٹیم',\n",
       " '▁1923',\n",
       " '▁سے',\n",
       " '▁فیفا',\n",
       " '▁اور',\n",
       " '▁1916',\n",
       " '▁سے',\n",
       " '▁جنوبی',\n",
       " '▁امریکی',\n",
       " '▁فٹبال',\n",
       " '▁فیڈریشن',\n",
       " '▁کا',\n",
       " '▁رکن',\n",
       " '▁ہے۔',\n",
       " '▁برازیلی',\n",
       " '▁ٹیم',\n",
       " '▁فیفا',\n",
       " '▁عالمی',\n",
       " '▁فٹبال',\n",
       " '▁کپ',\n",
       " '▁کی',\n",
       " '▁تاریخ',\n",
       " '▁میں',\n",
       " '▁سب',\n",
       " '▁سے',\n",
       " '▁نمایاں',\n",
       " '▁ٹیم',\n",
       " '▁ہے',\n",
       " '▁جیسا',\n",
       " '▁کہ',\n",
       " '▁اس',\n",
       " 'نے',\n",
       " '▁پانچ',\n",
       " '▁دفعہ',\n",
       " '▁عالم',\n",
       " '▁کپ',\n",
       " '▁جیتا',\n",
       " '▁ہے۔',\n",
       " '▁جو',\n",
       " '▁بالترتیب',\n",
       " '▁یہ',\n",
       " '▁ہیں۔',\n",
       " '▁1958',\n",
       " '▁فیفا',\n",
       " '▁عالمی',\n",
       " '▁کپ',\n",
       " ',196',\n",
       " '2',\n",
       " '▁فیفا',\n",
       " '▁عالمی',\n",
       " '▁کپ',\n",
       " '▁',\n",
       " '،',\n",
       " '1970',\n",
       " '▁فیفا',\n",
       " '▁عالمی',\n",
       " '▁کپ',\n",
       " '▁',\n",
       " '،',\n",
       " '1994',\n",
       " '▁فیفا',\n",
       " '▁عالمی',\n",
       " '▁کپ',\n",
       " '▁اور',\n",
       " '▁2002',\n",
       " '▁فیفا',\n",
       " '▁عالمی',\n",
       " '▁کپ',\n",
       " '۔',\n",
       " 'وہ',\n",
       " '▁فیفا',\n",
       " '▁کنفیڈریشن',\n",
       " '▁کپ',\n",
       " '▁میں',\n",
       " '▁چار',\n",
       " '▁تمغوں',\n",
       " '▁کے',\n",
       " '▁ساتھ',\n",
       " '▁سب',\n",
       " '▁سے',\n",
       " '▁نمایاں',\n",
       " '▁ٹیم',\n",
       " '▁ہے۔',\n",
       " '▁برازیل',\n",
       " '▁دنیا',\n",
       " '▁کا',\n",
       " '▁واحد',\n",
       " '▁ٹیم',\n",
       " '▁ہے',\n",
       " '▁جس',\n",
       " '▁نے',\n",
       " '▁تمام',\n",
       " '▁عالمی',\n",
       " '▁فٹ',\n",
       " '▁بال',\n",
       " '▁مقابلوں',\n",
       " '▁میں',\n",
       " '▁حصہ',\n",
       " '▁لیا',\n",
       " '▁ہے۔',\n",
       " '▁یہ',\n",
       " '▁واحد',\n",
       " '▁ٹیم',\n",
       " '▁ہے',\n",
       " '▁جس',\n",
       " '▁نے',\n",
       " '▁دنیا',\n",
       " '▁کے',\n",
       " '▁چار',\n",
       " '▁مختلف',\n",
       " '▁براعظموں',\n",
       " '▁میں',\n",
       " '▁فیفا',\n",
       " '▁عالمی',\n",
       " '▁کپ',\n",
       " '▁جیتا',\n",
       " '▁ہے۔',\n",
       " '▁برازیل',\n",
       " '▁2014',\n",
       " '▁فیفا',\n",
       " '▁عالمی',\n",
       " '▁کپ',\n",
       " '▁کی',\n",
       " '▁میزبانی',\n",
       " '▁بھی',\n",
       " '▁کر',\n",
       " '▁رہا',\n",
       " '▁ہے۔',\n",
       " '▁برازیل',\n",
       " '▁کی',\n",
       " '▁فٹ',\n",
       " '▁بال',\n",
       " '▁ٹیم',\n",
       " '▁کی',\n",
       " '▁کٹ',\n",
       " '▁کا',\n",
       " '▁پہلا',\n",
       " '▁رنگ',\n",
       " '▁سفید',\n",
       " '▁اور',\n",
       " '▁نیلا',\n",
       " '▁تھا۔']"
      ]
     },
     "execution_count": 15,
     "metadata": {},
     "output_type": "execute_result"
    }
   ],
   "source": [
    "sp.EncodeAsPieces(text)"
   ]
  },
  {
   "cell_type": "code",
   "execution_count": null,
   "metadata": {},
   "outputs": [],
   "source": []
  }
 ],
 "metadata": {
  "kernelspec": {
   "display_name": "Python 3",
   "language": "python",
   "name": "python3"
  },
  "language_info": {
   "codemirror_mode": {
    "name": "ipython",
    "version": 3
   },
   "file_extension": ".py",
   "mimetype": "text/x-python",
   "name": "python",
   "nbconvert_exporter": "python",
   "pygments_lexer": "ipython3",
   "version": "3.6.5"
  }
 },
 "nbformat": 4,
 "nbformat_minor": 2
}
