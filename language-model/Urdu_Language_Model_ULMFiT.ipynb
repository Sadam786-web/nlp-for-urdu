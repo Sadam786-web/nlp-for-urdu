{
 "cells": [
  {
   "cell_type": "code",
   "execution_count": 1,
   "metadata": {},
   "outputs": [],
   "source": [
    "%reload_ext autoreload\n",
    "%autoreload 2\n",
    "%matplotlib inline"
   ]
  },
  {
   "cell_type": "code",
   "execution_count": 2,
   "metadata": {
    "colab": {},
    "colab_type": "code",
    "id": "IwVgTNGDoNoo"
   },
   "outputs": [],
   "source": [
    "from fastai.text import *\n",
    "import numpy as np\n",
    "from sklearn.model_selection import train_test_split\n",
    "import pickle\n",
    "import sentencepiece as spm"
   ]
  },
  {
   "cell_type": "code",
   "execution_count": 3,
   "metadata": {
    "colab": {
     "base_uri": "https://localhost:8080/",
     "height": 35
    },
    "colab_type": "code",
    "executionInfo": {
     "elapsed": 1326,
     "status": "ok",
     "timestamp": 1555090802079,
     "user": {
      "displayName": "Anurag Singh",
      "photoUrl": "https://lh3.googleusercontent.com/-oZFveA_nC3o/AAAAAAAAAAI/AAAAAAAAAO0/S1uGDMOYRgk/s64/photo.jpg",
      "userId": "02138464107931395468"
     },
     "user_tz": -330
    },
    "id": "me1gujePoc6r",
    "outputId": "46b973c4-2ecf-4d17-b811-6f0b245cd212"
   },
   "outputs": [
    {
     "data": {
      "text/plain": [
       "('1.0.50.post1', '1.0.1.post2')"
      ]
     },
     "execution_count": 3,
     "metadata": {},
     "output_type": "execute_result"
    }
   ],
   "source": [
    "import fastai, torch\n",
    "fastai.__version__ , torch.__version__"
   ]
  },
  {
   "cell_type": "code",
   "execution_count": 4,
   "metadata": {
    "colab": {},
    "colab_type": "code",
    "id": "66hWLS6aooA1"
   },
   "outputs": [],
   "source": [
    "torch.cuda.set_device(0)"
   ]
  },
  {
   "cell_type": "code",
   "execution_count": 8,
   "metadata": {},
   "outputs": [],
   "source": [
    "path = Path('/home/gaurav/PycharmProjects/nlp-for-urdu/language-model')"
   ]
  },
  {
   "cell_type": "code",
   "execution_count": 9,
   "metadata": {
    "colab": {},
    "colab_type": "code",
    "id": "86oUCOs2oqRo"
   },
   "outputs": [],
   "source": [
    "class UrduTokenizer(BaseTokenizer):\n",
    "    def __init__(self, lang:str):\n",
    "        self.lang = lang\n",
    "        self.sp = spm.SentencePieceProcessor()\n",
    "        self.sp.Load(str(path/\"../tokenizer/urdu_lm.model\"))\n",
    "        \n",
    "    def tokenizer(self, t:str) -> List[str]:\n",
    "        return self.sp.EncodeAsPieces(t)"
   ]
  },
  {
   "cell_type": "code",
   "execution_count": 11,
   "metadata": {
    "colab": {},
    "colab_type": "code",
    "id": "-fucar0ipS6h"
   },
   "outputs": [],
   "source": [
    "sp = spm.SentencePieceProcessor()\n",
    "sp.Load(str(path/\"../tokenizer/urdu_lm.model\"))\n",
    "itos = [sp.IdToPiece(int(i)) for i in range(30000)]"
   ]
  },
  {
   "cell_type": "code",
   "execution_count": 12,
   "metadata": {
    "colab": {},
    "colab_type": "code",
    "id": "04tP6drWpWbt"
   },
   "outputs": [],
   "source": [
    "urdu_vocab = Vocab(itos)"
   ]
  },
  {
   "cell_type": "code",
   "execution_count": 13,
   "metadata": {
    "colab": {},
    "colab_type": "code",
    "id": "P5DaVjxypYhH"
   },
   "outputs": [],
   "source": [
    "tokenizer = Tokenizer(tok_func=UrduTokenizer, lang='ur')"
   ]
  },
  {
   "cell_type": "code",
   "execution_count": 14,
   "metadata": {
    "colab": {
     "base_uri": "https://localhost:8080/",
     "height": 35
    },
    "colab_type": "code",
    "executionInfo": {
     "elapsed": 805,
     "status": "ok",
     "timestamp": 1555092031810,
     "user": {
      "displayName": "Anurag Singh",
      "photoUrl": "https://lh3.googleusercontent.com/-oZFveA_nC3o/AAAAAAAAAAI/AAAAAAAAAO0/S1uGDMOYRgk/s64/photo.jpg",
      "userId": "02138464107931395468"
     },
     "user_tz": -330
    },
    "id": "kLIHR42ApaRQ",
    "outputId": "b3e36d49-506d-4ccb-b984-93b48b68a83e"
   },
   "outputs": [
    {
     "data": {
      "text/plain": [
       "['xxunk',\n",
       " 'xxpad',\n",
       " 'xxbos',\n",
       " 'xxeos',\n",
       " 'xxfld',\n",
       " 'xxmaj',\n",
       " 'xxup',\n",
       " 'xxrep',\n",
       " 'xxwrep']"
      ]
     },
     "execution_count": 14,
     "metadata": {},
     "output_type": "execute_result"
    }
   ],
   "source": [
    "tokenizer.special_cases"
   ]
  },
  {
   "cell_type": "code",
   "execution_count": 9,
   "metadata": {
    "colab": {},
    "colab_type": "code",
    "id": "dHhiu_eipcwd",
    "scrolled": true
   },
   "outputs": [],
   "source": [
    "data_lm = TextLMDataBunch.from_folder(path=path/'UrduDataset', tokenizer=tokenizer, vocab=urdu_vocab)"
   ]
  },
  {
   "cell_type": "code",
   "execution_count": 10,
   "metadata": {
    "colab": {},
    "colab_type": "code",
    "id": "nLqqPxW2pl8s"
   },
   "outputs": [],
   "source": [
    "data_lm.save()"
   ]
  },
  {
   "cell_type": "code",
   "execution_count": 4,
   "metadata": {},
   "outputs": [],
   "source": [
    "data_lm = TextLMDataBunch.load(path=path/'UrduDataset')"
   ]
  },
  {
   "cell_type": "code",
   "execution_count": 5,
   "metadata": {
    "colab": {},
    "colab_type": "code",
    "id": "PkSlOJaypn3O"
   },
   "outputs": [
    {
     "data": {
      "text/html": [
       "<table>  <col width='5%'>  <col width='95%'>  <tr>\n",
       "    <th>idx</th>\n",
       "    <th>text</th>\n",
       "  </tr>\n",
       "  <tr>\n",
       "    <th>0</th>\n",
       "    <th>▁ xx bo s ▁رینڈولف ▁کاؤنٹی ، ▁الاباما ▁ریاستہائے ▁متحدہ ▁امریکا ▁کا ▁ایک ▁رہائشی ▁علاقہ ▁جو ▁الاباما ▁میں ▁واقع ▁ہے۔ ▁رینڈولف ▁کاؤنٹی ، ▁الاباما ▁کا ▁رقبہ ▁1 ,512 .56 ▁مربع ▁کیلومیٹر ▁ہے ، ▁ہے۔ ▁کی ▁مجموع ی ▁آبادی ▁ xx bo s ▁ xx bo s ▁ریاستہائے ▁متحدہ ▁امریکا ▁کی ▁ریاست ▁نیویارک ▁کی ▁ایک ▁کاؤنٹی - ▁ xx bo s ▁حب ق وق ▁انبیائے ▁بنی ▁اسرائیل ▁میں ▁سے ▁ایک ▁نبی</th>\n",
       "  </tr>\n",
       "  <tr>\n",
       "    <th>1</th>\n",
       "    <th>▁بنجر ▁زمینوں ▁پر ▁نمو ▁پاتا ▁ہے۔ ▁اس ▁کا ▁ تنا ▁بوتل ▁نما ▁ہوتا ▁ہے ▁جس ▁میں ▁بڑی ▁مقدار ▁میں ▁پانی ▁جمع ▁رہتا ▁ہے۔ ▁ایک ▁اندازے ▁کے ▁مطابق ▁اس ▁درخت ▁کے ▁ تنے ▁میں ▁ایک ▁لاکھ ▁بیس ▁ہزار ▁لیٹر ▁پانی ▁جمع ▁کرنے ▁کی ▁گنجائش ▁ہوتی ▁ہے ، ▁جو ▁اس ▁بنجر ▁علاقے ▁میں ▁انسانوں ▁اور ▁جنگلی ▁حیات ▁کے ▁لیے ▁زندگی ▁کی ▁علامت ▁سمجھا ▁جاتا ▁ہے۔ ▁اس ▁درخت ▁کی ▁ایک ▁اور ▁بات ▁جو</th>\n",
       "  </tr>\n",
       "  <tr>\n",
       "    <th>2</th>\n",
       "    <th>▁مضمون ▁ملاحظ ہ ▁ہو : ▁م َّ ا ▁خ َ ل ْ ق ُ ك ُ م ْ ▁و َ ل َ ا ▁ب َ ع ْ ث ُ ك ُ م ْ ▁إ ِ ل َّ ا ▁ك َ ن َ ف ْ س ٍ ▁و َ اح ِ د َ ة ٍ ▁۔۔۔ تم ▁سارے ▁انسانوں ▁کو پیدا ▁کرنا اور ▁پھر ▁دوبارہ ▁زندگی ▁بخش نا ▁تو ▁بس ▁ایسا</th>\n",
       "  </tr>\n",
       "  <tr>\n",
       "    <th>3</th>\n",
       "    <th>▁اس ▁کے ▁بعد ▁ایک ▁ہزار ▁سات ▁سو ▁تریانوے ▁یا ▁سترہ ▁سو ▁تریانوے ▁بولا ▁جاتا ▁ہے۔ ▁ xx bo s ▁محافظہ ▁قل قی لیہ ▁فلسطین ▁کے ▁سولہ ▁محافظ ات ▁میں ▁سے ▁ایک ▁ہے ، ▁جو ▁مغربی ▁کنارہ ▁میں ▁واقع ▁ہے۔ ▁ xx bo s ▁مملکت ▁ھو ل ندا ▁ایک ▁خود ▁مختار ▁ریاست ▁اور ▁آئینی ▁بادشاہت ▁ہے ▁کو ▁کہ ▁مغربی ▁یورپ ▁کے ▁ساتھ ▁کیریبین ▁میں ▁پھیلی ▁ہوئی ▁ہے۔ ▁مملکت ▁نیدرلینڈز ▁اس ▁وقت</th>\n",
       "  </tr>\n",
       "  <tr>\n",
       "    <th>4</th>\n",
       "    <th>▁متن ▁· ▁انگریزی ▁ترجمہ ▁قرآن ▁مجید ▁کی ▁41 ▁ویں ▁سورت ▁جو ▁سو رۂ ▁ف ُ ص ّ ِ ل َ ت ▁بھی ▁کہلاتی ▁ہے۔ ▁اس ▁میں ▁54 ▁آیات ▁اور ▁6 ▁رکوع ▁ہیں۔ ▁اس ▁سورت ▁کا ▁نام ▁دو ▁لفظ وں ▁سے ▁مرکب ▁ہے ▁ایک ▁ح ٰ م ▁دوسرے ▁السجد ہ ▁مطلب ▁یہ ▁ہے ▁کہ ▁وہ ▁سورت ▁جس ▁کا ▁آغاز ▁ح ٰ م ▁سے ▁ہوتا ▁ہے ▁اور ▁جس ▁میں ▁ایک ▁مقام ▁پر</th>\n",
       "  </tr>\n",
       "</table>\n"
      ],
      "text/plain": [
       "<IPython.core.display.HTML object>"
      ]
     },
     "metadata": {},
     "output_type": "display_data"
    }
   ],
   "source": [
    "data_lm.show_batch()"
   ]
  },
  {
   "cell_type": "code",
   "execution_count": 6,
   "metadata": {
    "colab": {},
    "colab_type": "code",
    "id": "4Ga3phL0prUp"
   },
   "outputs": [
    {
     "data": {
      "text/plain": [
       "30000"
      ]
     },
     "execution_count": 6,
     "metadata": {},
     "output_type": "execute_result"
    }
   ],
   "source": [
    "len(data_lm.vocab.itos)"
   ]
  },
  {
   "cell_type": "code",
   "execution_count": 7,
   "metadata": {},
   "outputs": [],
   "source": [
    "learn = language_model_learner(data_lm, drop_mult=0.3)"
   ]
  },
  {
   "cell_type": "code",
   "execution_count": 8,
   "metadata": {},
   "outputs": [
    {
     "data": {
      "text/plain": [
       "0"
      ]
     },
     "execution_count": 8,
     "metadata": {},
     "output_type": "execute_result"
    }
   ],
   "source": [
    "gc.collect()"
   ]
  },
  {
   "cell_type": "code",
   "execution_count": 15,
   "metadata": {},
   "outputs": [
    {
     "data": {
      "text/html": [],
      "text/plain": [
       "<IPython.core.display.HTML object>"
      ]
     },
     "metadata": {},
     "output_type": "display_data"
    },
    {
     "name": "stdout",
     "output_type": "stream",
     "text": [
      "LR Finder is complete, type {learner_name}.recorder.plot() to see the graph.\n"
     ]
    },
    {
     "data": {
      "image/png": "[encoded data removed]",
      "text/plain": [
       "<Figure size 432x288 with 1 Axes>"
      ]
     },
     "metadata": {},
     "output_type": "display_data"
    }
   ],
   "source": [
    "learn.lr_find()\n",
    "learn.recorder.plot()"
   ]
  },
  {
   "cell_type": "code",
   "execution_count": 16,
   "metadata": {},
   "outputs": [
    {
     "data": {
      "text/html": [
       "Total time: 30:21 <p><table border=\"1\" class=\"dataframe\">\n",
       "  <thead>\n",
       "    <tr style=\"text-align: left;\">\n",
       "      <th>epoch</th>\n",
       "      <th>train_loss</th>\n",
       "      <th>valid_loss</th>\n",
       "      <th>accuracy</th>\n",
       "    </tr>\n",
       "  </thead>\n",
       "  <tbody>\n",
       "    <tr>\n",
       "      <td>1</td>\n",
       "      <td>3.851694</td>\n",
       "      <td>3.756488</td>\n",
       "      <td>0.363578</td>\n",
       "    </tr>\n",
       "  </tbody>\n",
       "</table>"
      ],
      "text/plain": [
       "<IPython.core.display.HTML object>"
      ]
     },
     "metadata": {},
     "output_type": "display_data"
    }
   ],
   "source": [
    "learn.fit_one_cycle(1, 1e-2, moms=(0.8,0.7))"
   ]
  },
  {
   "cell_type": "code",
   "execution_count": 17,
   "metadata": {},
   "outputs": [],
   "source": [
    "learn.save('first', with_opt=True)"
   ]
  },
  {
   "cell_type": "code",
   "execution_count": 18,
   "metadata": {},
   "outputs": [],
   "source": [
    "learn.load('first', with_opt=True);"
   ]
  },
  {
   "cell_type": "code",
   "execution_count": 9,
   "metadata": {},
   "outputs": [],
   "source": [
    "learn.unfreeze()"
   ]
  },
  {
   "cell_type": "code",
   "execution_count": 20,
   "metadata": {},
   "outputs": [
    {
     "data": {
      "text/html": [
       "Total time: 2:32:36 <p><table border=\"1\" class=\"dataframe\">\n",
       "  <thead>\n",
       "    <tr style=\"text-align: left;\">\n",
       "      <th>epoch</th>\n",
       "      <th>train_loss</th>\n",
       "      <th>valid_loss</th>\n",
       "      <th>accuracy</th>\n",
       "    </tr>\n",
       "  </thead>\n",
       "  <tbody>\n",
       "    <tr>\n",
       "      <td>1</td>\n",
       "      <td>3.756290</td>\n",
       "      <td>3.822223</td>\n",
       "      <td>0.353836</td>\n",
       "    </tr>\n",
       "    <tr>\n",
       "      <td>2</td>\n",
       "      <td>3.685229</td>\n",
       "      <td>3.799644</td>\n",
       "      <td>0.352893</td>\n",
       "    </tr>\n",
       "    <tr>\n",
       "      <td>3</td>\n",
       "      <td>3.589541</td>\n",
       "      <td>3.521406</td>\n",
       "      <td>0.385709</td>\n",
       "    </tr>\n",
       "    <tr>\n",
       "      <td>4</td>\n",
       "      <td>3.166971</td>\n",
       "      <td>3.220029</td>\n",
       "      <td>0.428290</td>\n",
       "    </tr>\n",
       "    <tr>\n",
       "      <td>5</td>\n",
       "      <td>3.149071</td>\n",
       "      <td>3.101883</td>\n",
       "      <td>0.447893</td>\n",
       "    </tr>\n",
       "  </tbody>\n",
       "</table>"
      ],
      "text/plain": [
       "<IPython.core.display.HTML object>"
      ]
     },
     "metadata": {},
     "output_type": "display_data"
    }
   ],
   "source": [
    "learn.fit_one_cycle(5, 1e-2, moms=(0.8,0.7))"
   ]
  },
  {
   "cell_type": "code",
   "execution_count": 21,
   "metadata": {},
   "outputs": [],
   "source": [
    "learn.save('second-ur-lm', with_opt=True)"
   ]
  },
  {
   "cell_type": "code",
   "execution_count": 10,
   "metadata": {},
   "outputs": [],
   "source": [
    "learn.load('second-ur-lm', with_opt=True);"
   ]
  },
  {
   "cell_type": "code",
   "execution_count": 11,
   "metadata": {},
   "outputs": [
    {
     "data": {
      "text/html": [
       "Total time: 15:02:07 <p><table border=\"1\" class=\"dataframe\">\n",
       "  <thead>\n",
       "    <tr style=\"text-align: left;\">\n",
       "      <th>epoch</th>\n",
       "      <th>train_loss</th>\n",
       "      <th>valid_loss</th>\n",
       "      <th>accuracy</th>\n",
       "    </tr>\n",
       "  </thead>\n",
       "  <tbody>\n",
       "    <tr>\n",
       "      <td>1</td>\n",
       "      <td>2.928500</td>\n",
       "      <td>3.092237</td>\n",
       "      <td>0.449652</td>\n",
       "    </tr>\n",
       "    <tr>\n",
       "      <td>2</td>\n",
       "      <td>3.040899</td>\n",
       "      <td>3.080851</td>\n",
       "      <td>0.451736</td>\n",
       "    </tr>\n",
       "    <tr>\n",
       "      <td>3</td>\n",
       "      <td>2.966673</td>\n",
       "      <td>3.068852</td>\n",
       "      <td>0.454310</td>\n",
       "    </tr>\n",
       "    <tr>\n",
       "      <td>4</td>\n",
       "      <td>3.010943</td>\n",
       "      <td>3.046978</td>\n",
       "      <td>0.458104</td>\n",
       "    </tr>\n",
       "    <tr>\n",
       "      <td>5</td>\n",
       "      <td>2.881997</td>\n",
       "      <td>3.021647</td>\n",
       "      <td>0.462656</td>\n",
       "    </tr>\n",
       "    <tr>\n",
       "      <td>6</td>\n",
       "      <td>2.825207</td>\n",
       "      <td>2.996819</td>\n",
       "      <td>0.467186</td>\n",
       "    </tr>\n",
       "    <tr>\n",
       "      <td>7</td>\n",
       "      <td>2.938460</td>\n",
       "      <td>2.970946</td>\n",
       "      <td>0.471994</td>\n",
       "    </tr>\n",
       "    <tr>\n",
       "      <td>8</td>\n",
       "      <td>2.938644</td>\n",
       "      <td>2.940169</td>\n",
       "      <td>0.477906</td>\n",
       "    </tr>\n",
       "    <tr>\n",
       "      <td>9</td>\n",
       "      <td>2.873854</td>\n",
       "      <td>2.917158</td>\n",
       "      <td>0.482316</td>\n",
       "    </tr>\n",
       "    <tr>\n",
       "      <td>10</td>\n",
       "      <td>2.932488</td>\n",
       "      <td>2.889037</td>\n",
       "      <td>0.487278</td>\n",
       "    </tr>\n",
       "    <tr>\n",
       "      <td>11</td>\n",
       "      <td>2.801504</td>\n",
       "      <td>2.854249</td>\n",
       "      <td>0.493791</td>\n",
       "    </tr>\n",
       "    <tr>\n",
       "      <td>12</td>\n",
       "      <td>2.716863</td>\n",
       "      <td>2.828580</td>\n",
       "      <td>0.498812</td>\n",
       "    </tr>\n",
       "    <tr>\n",
       "      <td>13</td>\n",
       "      <td>2.678477</td>\n",
       "      <td>2.804468</td>\n",
       "      <td>0.503224</td>\n",
       "    </tr>\n",
       "    <tr>\n",
       "      <td>14</td>\n",
       "      <td>2.594504</td>\n",
       "      <td>2.781327</td>\n",
       "      <td>0.507829</td>\n",
       "    </tr>\n",
       "    <tr>\n",
       "      <td>15</td>\n",
       "      <td>2.569956</td>\n",
       "      <td>2.755257</td>\n",
       "      <td>0.512586</td>\n",
       "    </tr>\n",
       "    <tr>\n",
       "      <td>16</td>\n",
       "      <td>2.633062</td>\n",
       "      <td>2.745617</td>\n",
       "      <td>0.515139</td>\n",
       "    </tr>\n",
       "    <tr>\n",
       "      <td>17</td>\n",
       "      <td>2.581402</td>\n",
       "      <td>2.715610</td>\n",
       "      <td>0.520409</td>\n",
       "    </tr>\n",
       "    <tr>\n",
       "      <td>18</td>\n",
       "      <td>2.600442</td>\n",
       "      <td>2.695653</td>\n",
       "      <td>0.523931</td>\n",
       "    </tr>\n",
       "    <tr>\n",
       "      <td>19</td>\n",
       "      <td>2.568641</td>\n",
       "      <td>2.676588</td>\n",
       "      <td>0.528100</td>\n",
       "    </tr>\n",
       "    <tr>\n",
       "      <td>20</td>\n",
       "      <td>2.460470</td>\n",
       "      <td>2.659172</td>\n",
       "      <td>0.531143</td>\n",
       "    </tr>\n",
       "    <tr>\n",
       "      <td>21</td>\n",
       "      <td>2.563756</td>\n",
       "      <td>2.646577</td>\n",
       "      <td>0.534088</td>\n",
       "    </tr>\n",
       "    <tr>\n",
       "      <td>22</td>\n",
       "      <td>2.500990</td>\n",
       "      <td>2.634939</td>\n",
       "      <td>0.536231</td>\n",
       "    </tr>\n",
       "    <tr>\n",
       "      <td>23</td>\n",
       "      <td>2.387974</td>\n",
       "      <td>2.623182</td>\n",
       "      <td>0.538332</td>\n",
       "    </tr>\n",
       "    <tr>\n",
       "      <td>24</td>\n",
       "      <td>2.293152</td>\n",
       "      <td>2.615403</td>\n",
       "      <td>0.540325</td>\n",
       "    </tr>\n",
       "    <tr>\n",
       "      <td>25</td>\n",
       "      <td>2.437191</td>\n",
       "      <td>2.605516</td>\n",
       "      <td>0.541917</td>\n",
       "    </tr>\n",
       "    <tr>\n",
       "      <td>26</td>\n",
       "      <td>2.523114</td>\n",
       "      <td>2.602097</td>\n",
       "      <td>0.542748</td>\n",
       "    </tr>\n",
       "    <tr>\n",
       "      <td>27</td>\n",
       "      <td>2.569603</td>\n",
       "      <td>2.597097</td>\n",
       "      <td>0.543651</td>\n",
       "    </tr>\n",
       "    <tr>\n",
       "      <td>28</td>\n",
       "      <td>2.301344</td>\n",
       "      <td>2.594722</td>\n",
       "      <td>0.544100</td>\n",
       "    </tr>\n",
       "    <tr>\n",
       "      <td>29</td>\n",
       "      <td>2.469531</td>\n",
       "      <td>2.594049</td>\n",
       "      <td>0.544209</td>\n",
       "    </tr>\n",
       "    <tr>\n",
       "      <td>30</td>\n",
       "      <td>2.511081</td>\n",
       "      <td>2.593889</td>\n",
       "      <td>0.544207</td>\n",
       "    </tr>\n",
       "  </tbody>\n",
       "</table>"
      ],
      "text/plain": [
       "<IPython.core.display.HTML object>"
      ]
     },
     "metadata": {},
     "output_type": "display_data"
    }
   ],
   "source": [
    "learn.fit_one_cycle(30, 1e-3, moms=(0.8,0.7))"
   ]
  },
  {
   "cell_type": "code",
   "execution_count": 12,
   "metadata": {},
   "outputs": [],
   "source": [
    "learn.save('third-ur-lm', with_opt=True)"
   ]
  },
  {
   "cell_type": "code",
   "execution_count": 13,
   "metadata": {},
   "outputs": [],
   "source": [
    "learn.load('third-ur-lm', with_opt=True);"
   ]
  },
  {
   "cell_type": "code",
   "execution_count": 14,
   "metadata": {},
   "outputs": [
    {
     "data": {
      "text/html": [
       "Total time: 5:00:45 <p><table border=\"1\" class=\"dataframe\">\n",
       "  <thead>\n",
       "    <tr style=\"text-align: left;\">\n",
       "      <th>epoch</th>\n",
       "      <th>train_loss</th>\n",
       "      <th>valid_loss</th>\n",
       "      <th>accuracy</th>\n",
       "    </tr>\n",
       "  </thead>\n",
       "  <tbody>\n",
       "    <tr>\n",
       "      <td>1</td>\n",
       "      <td>2.373808</td>\n",
       "      <td>2.593668</td>\n",
       "      <td>0.544237</td>\n",
       "    </tr>\n",
       "    <tr>\n",
       "      <td>2</td>\n",
       "      <td>2.236325</td>\n",
       "      <td>2.592030</td>\n",
       "      <td>0.544580</td>\n",
       "    </tr>\n",
       "    <tr>\n",
       "      <td>3</td>\n",
       "      <td>2.412799</td>\n",
       "      <td>2.592942</td>\n",
       "      <td>0.544528</td>\n",
       "    </tr>\n",
       "    <tr>\n",
       "      <td>4</td>\n",
       "      <td>2.393425</td>\n",
       "      <td>2.588914</td>\n",
       "      <td>0.545238</td>\n",
       "    </tr>\n",
       "    <tr>\n",
       "      <td>5</td>\n",
       "      <td>2.239298</td>\n",
       "      <td>2.586825</td>\n",
       "      <td>0.545738</td>\n",
       "    </tr>\n",
       "    <tr>\n",
       "      <td>6</td>\n",
       "      <td>2.450857</td>\n",
       "      <td>2.584988</td>\n",
       "      <td>0.546140</td>\n",
       "    </tr>\n",
       "    <tr>\n",
       "      <td>7</td>\n",
       "      <td>2.385140</td>\n",
       "      <td>2.583483</td>\n",
       "      <td>0.546425</td>\n",
       "    </tr>\n",
       "    <tr>\n",
       "      <td>8</td>\n",
       "      <td>2.526998</td>\n",
       "      <td>2.581815</td>\n",
       "      <td>0.546879</td>\n",
       "    </tr>\n",
       "    <tr>\n",
       "      <td>9</td>\n",
       "      <td>2.255459</td>\n",
       "      <td>2.580998</td>\n",
       "      <td>0.547135</td>\n",
       "    </tr>\n",
       "    <tr>\n",
       "      <td>10</td>\n",
       "      <td>2.494641</td>\n",
       "      <td>2.580521</td>\n",
       "      <td>0.547101</td>\n",
       "    </tr>\n",
       "  </tbody>\n",
       "</table>"
      ],
      "text/plain": [
       "<IPython.core.display.HTML object>"
      ]
     },
     "metadata": {},
     "output_type": "display_data"
    }
   ],
   "source": [
    "learn.fit_one_cycle(10, 1e-4, moms=(0.8,0.7))"
   ]
  },
  {
   "cell_type": "code",
   "execution_count": 15,
   "metadata": {},
   "outputs": [],
   "source": [
    "learn.save('fourth-ur-lm', with_opt=True)"
   ]
  },
  {
   "cell_type": "code",
   "execution_count": 9,
   "metadata": {},
   "outputs": [],
   "source": [
    "learn.load('fourth-ur-lm',with_opt=True);"
   ]
  },
  {
   "cell_type": "code",
   "execution_count": 14,
   "metadata": {},
   "outputs": [],
   "source": [
    "TEXT = \"میں کروں گا\"\n",
    "N_WORDS = 40\n",
    "N_SENTENCES = 2"
   ]
  },
  {
   "cell_type": "code",
   "execution_count": 15,
   "metadata": {},
   "outputs": [
    {
     "name": "stdout",
     "output_type": "stream",
     "text": [
      "میں کروں گا ؤ ی ▁اور ھا ▁ ے ▁ ، ▁ہم اح ▁ ، ▁ ی ه ▁ ہ ي ▁ي ▁چنے ▁ش َّ و ِ ی ▁ ، ▁ث ِ ی نو ▁ ، ▁اب و َ ▁ ، ▁اش َّ\n",
      "میں کروں گا ، ▁ہو ▁ ی ، ▁ ین کا ، ▁ یات سکو ، ▁ ونکس ، ▁ نگ جو نٹ ، ▁ سیکس ، ▁ ▁جک ▁الحشر ج ، ▁ سٹر ه د ▁کرو ، ▁ سٹر نٹ ▁اور ▁”\n"
     ]
    }
   ],
   "source": [
    "print(\"\\n\".join(learn.predict(TEXT, N_WORDS, temperature=0.9) for _ in range(N_SENTENCES)))"
   ]
  },
  {
   "cell_type": "code",
   "execution_count": 16,
   "metadata": {},
   "outputs": [
    {
     "data": {
      "text/plain": [
       "13.197138159658358"
      ]
     },
     "execution_count": 16,
     "metadata": {},
     "output_type": "execute_result"
    }
   ],
   "source": [
    "np.exp(2.58)"
   ]
  },
  {
   "cell_type": "code",
   "execution_count": 15,
   "metadata": {},
   "outputs": [],
   "source": [
    "# Generating embedding vectors for visualization"
   ]
  },
  {
   "cell_type": "code",
   "execution_count": 16,
   "metadata": {},
   "outputs": [
    {
     "data": {
      "text/plain": [
       "PosixPath('/home/gaurav/PycharmProjects/nlp-for-urdu/language-model')"
      ]
     },
     "execution_count": 16,
     "metadata": {},
     "output_type": "execute_result"
    }
   ],
   "source": [
    "path"
   ]
  },
  {
   "cell_type": "code",
   "execution_count": 17,
   "metadata": {},
   "outputs": [],
   "source": [
    "defaults.device = torch.device('cpu')"
   ]
  },
  {
   "cell_type": "code",
   "execution_count": 19,
   "metadata": {},
   "outputs": [],
   "source": [
    "learn = load_learner(path / 'UrduDataset/')"
   ]
  },
  {
   "cell_type": "code",
   "execution_count": 20,
   "metadata": {},
   "outputs": [],
   "source": [
    "encoder = get_model(learn.model)[0]"
   ]
  },
  {
   "cell_type": "code",
   "execution_count": 21,
   "metadata": {},
   "outputs": [
    {
     "data": {
      "text/plain": [
       "torch.Size([30000, 400])"
      ]
     },
     "execution_count": 21,
     "metadata": {},
     "output_type": "execute_result"
    }
   ],
   "source": [
    "encoder.state_dict()['encoder.weight'].shape"
   ]
  },
  {
   "cell_type": "code",
   "execution_count": 22,
   "metadata": {},
   "outputs": [],
   "source": [
    "embeddings = encoder.state_dict()['encoder.weight']"
   ]
  },
  {
   "cell_type": "code",
   "execution_count": 23,
   "metadata": {},
   "outputs": [],
   "source": [
    "embeddings = np.array(embeddings)"
   ]
  },
  {
   "cell_type": "code",
   "execution_count": 24,
   "metadata": {},
   "outputs": [
    {
     "data": {
      "text/plain": [
       "(400,)"
      ]
     },
     "execution_count": 24,
     "metadata": {},
     "output_type": "execute_result"
    }
   ],
   "source": [
    "embeddings[0].shape"
   ]
  },
  {
   "cell_type": "code",
   "execution_count": 25,
   "metadata": {},
   "outputs": [],
   "source": [
    "df = pd.DataFrame(embeddings)"
   ]
  },
  {
   "cell_type": "code",
   "execution_count": 26,
   "metadata": {},
   "outputs": [
    {
     "data": {
      "text/html": [
       "<div>\n",
       "<style scoped>\n",
       "    .dataframe tbody tr th:only-of-type {\n",
       "        vertical-align: middle;\n",
       "    }\n",
       "\n",
       "    .dataframe tbody tr th {\n",
       "        vertical-align: top;\n",
       "    }\n",
       "\n",
       "    .dataframe thead th {\n",
       "        text-align: right;\n",
       "    }\n",
       "</style>\n",
       "<table border=\"1\" class=\"dataframe\">\n",
       "  <thead>\n",
       "    <tr style=\"text-align: right;\">\n",
       "      <th></th>\n",
       "      <th>0</th>\n",
       "      <th>1</th>\n",
       "      <th>2</th>\n",
       "      <th>3</th>\n",
       "      <th>4</th>\n",
       "      <th>5</th>\n",
       "      <th>6</th>\n",
       "      <th>7</th>\n",
       "      <th>8</th>\n",
       "      <th>9</th>\n",
       "      <th>...</th>\n",
       "      <th>390</th>\n",
       "      <th>391</th>\n",
       "      <th>392</th>\n",
       "      <th>393</th>\n",
       "      <th>394</th>\n",
       "      <th>395</th>\n",
       "      <th>396</th>\n",
       "      <th>397</th>\n",
       "      <th>398</th>\n",
       "      <th>399</th>\n",
       "    </tr>\n",
       "  </thead>\n",
       "  <tbody>\n",
       "    <tr>\n",
       "      <th>0</th>\n",
       "      <td>-0.604038</td>\n",
       "      <td>0.928937</td>\n",
       "      <td>0.173983</td>\n",
       "      <td>-0.548158</td>\n",
       "      <td>0.353071</td>\n",
       "      <td>-0.234544</td>\n",
       "      <td>0.084596</td>\n",
       "      <td>0.351957</td>\n",
       "      <td>-0.719141</td>\n",
       "      <td>-0.240196</td>\n",
       "      <td>...</td>\n",
       "      <td>0.432900</td>\n",
       "      <td>0.041265</td>\n",
       "      <td>-0.556278</td>\n",
       "      <td>0.468767</td>\n",
       "      <td>-0.212824</td>\n",
       "      <td>-0.759726</td>\n",
       "      <td>0.796472</td>\n",
       "      <td>0.435989</td>\n",
       "      <td>0.012394</td>\n",
       "      <td>-0.208792</td>\n",
       "    </tr>\n",
       "    <tr>\n",
       "      <th>1</th>\n",
       "      <td>-0.121211</td>\n",
       "      <td>0.036493</td>\n",
       "      <td>-0.013152</td>\n",
       "      <td>-0.026623</td>\n",
       "      <td>0.047395</td>\n",
       "      <td>-0.200364</td>\n",
       "      <td>0.030797</td>\n",
       "      <td>0.105860</td>\n",
       "      <td>-0.021727</td>\n",
       "      <td>-0.127239</td>\n",
       "      <td>...</td>\n",
       "      <td>-0.283677</td>\n",
       "      <td>-0.042465</td>\n",
       "      <td>0.020871</td>\n",
       "      <td>-0.049846</td>\n",
       "      <td>0.400187</td>\n",
       "      <td>-0.483217</td>\n",
       "      <td>0.185068</td>\n",
       "      <td>0.024078</td>\n",
       "      <td>-0.037641</td>\n",
       "      <td>-0.344190</td>\n",
       "    </tr>\n",
       "    <tr>\n",
       "      <th>2</th>\n",
       "      <td>-0.129012</td>\n",
       "      <td>0.036570</td>\n",
       "      <td>-0.011465</td>\n",
       "      <td>-0.032070</td>\n",
       "      <td>0.049414</td>\n",
       "      <td>-0.200489</td>\n",
       "      <td>0.022158</td>\n",
       "      <td>0.119801</td>\n",
       "      <td>-0.018700</td>\n",
       "      <td>-0.131696</td>\n",
       "      <td>...</td>\n",
       "      <td>-0.262108</td>\n",
       "      <td>-0.043416</td>\n",
       "      <td>0.021815</td>\n",
       "      <td>-0.045117</td>\n",
       "      <td>0.396356</td>\n",
       "      <td>-0.487899</td>\n",
       "      <td>0.180380</td>\n",
       "      <td>0.027468</td>\n",
       "      <td>-0.038509</td>\n",
       "      <td>-0.342136</td>\n",
       "    </tr>\n",
       "    <tr>\n",
       "      <th>3</th>\n",
       "      <td>0.016062</td>\n",
       "      <td>0.460909</td>\n",
       "      <td>0.098035</td>\n",
       "      <td>-0.366861</td>\n",
       "      <td>-0.910681</td>\n",
       "      <td>-0.354914</td>\n",
       "      <td>-0.189845</td>\n",
       "      <td>-1.060809</td>\n",
       "      <td>-0.370609</td>\n",
       "      <td>-0.169891</td>\n",
       "      <td>...</td>\n",
       "      <td>0.404151</td>\n",
       "      <td>0.967090</td>\n",
       "      <td>-0.678651</td>\n",
       "      <td>0.198873</td>\n",
       "      <td>0.523056</td>\n",
       "      <td>-0.331038</td>\n",
       "      <td>1.373236</td>\n",
       "      <td>0.044200</td>\n",
       "      <td>-0.000229</td>\n",
       "      <td>-0.459117</td>\n",
       "    </tr>\n",
       "    <tr>\n",
       "      <th>4</th>\n",
       "      <td>-0.000527</td>\n",
       "      <td>-2.012402</td>\n",
       "      <td>0.228611</td>\n",
       "      <td>-0.206076</td>\n",
       "      <td>0.223483</td>\n",
       "      <td>0.864121</td>\n",
       "      <td>-0.145455</td>\n",
       "      <td>1.428005</td>\n",
       "      <td>-0.684859</td>\n",
       "      <td>-0.263586</td>\n",
       "      <td>...</td>\n",
       "      <td>-0.251318</td>\n",
       "      <td>-0.448353</td>\n",
       "      <td>-2.858542</td>\n",
       "      <td>-0.160754</td>\n",
       "      <td>0.260375</td>\n",
       "      <td>0.105250</td>\n",
       "      <td>-0.931670</td>\n",
       "      <td>0.094028</td>\n",
       "      <td>0.053914</td>\n",
       "      <td>0.300583</td>\n",
       "    </tr>\n",
       "  </tbody>\n",
       "</table>\n",
       "<p>5 rows × 400 columns</p>\n",
       "</div>"
      ],
      "text/plain": [
       "        0         1         2         3         4         5         6    \\\n",
       "0 -0.604038  0.928937  0.173983 -0.548158  0.353071 -0.234544  0.084596   \n",
       "1 -0.121211  0.036493 -0.013152 -0.026623  0.047395 -0.200364  0.030797   \n",
       "2 -0.129012  0.036570 -0.011465 -0.032070  0.049414 -0.200489  0.022158   \n",
       "3  0.016062  0.460909  0.098035 -0.366861 -0.910681 -0.354914 -0.189845   \n",
       "4 -0.000527 -2.012402  0.228611 -0.206076  0.223483  0.864121 -0.145455   \n",
       "\n",
       "        7         8         9    ...       390       391       392       393  \\\n",
       "0  0.351957 -0.719141 -0.240196  ...  0.432900  0.041265 -0.556278  0.468767   \n",
       "1  0.105860 -0.021727 -0.127239  ... -0.283677 -0.042465  0.020871 -0.049846   \n",
       "2  0.119801 -0.018700 -0.131696  ... -0.262108 -0.043416  0.021815 -0.045117   \n",
       "3 -1.060809 -0.370609 -0.169891  ...  0.404151  0.967090 -0.678651  0.198873   \n",
       "4  1.428005 -0.684859 -0.263586  ... -0.251318 -0.448353 -2.858542 -0.160754   \n",
       "\n",
       "        394       395       396       397       398       399  \n",
       "0 -0.212824 -0.759726  0.796472  0.435989  0.012394 -0.208792  \n",
       "1  0.400187 -0.483217  0.185068  0.024078 -0.037641 -0.344190  \n",
       "2  0.396356 -0.487899  0.180380  0.027468 -0.038509 -0.342136  \n",
       "3  0.523056 -0.331038  1.373236  0.044200 -0.000229 -0.459117  \n",
       "4  0.260375  0.105250 -0.931670  0.094028  0.053914  0.300583  \n",
       "\n",
       "[5 rows x 400 columns]"
      ]
     },
     "execution_count": 26,
     "metadata": {},
     "output_type": "execute_result"
    }
   ],
   "source": [
    "df.head()"
   ]
  },
  {
   "cell_type": "code",
   "execution_count": 27,
   "metadata": {},
   "outputs": [
    {
     "data": {
      "text/plain": [
       "(30000, 400)"
      ]
     },
     "execution_count": 27,
     "metadata": {},
     "output_type": "execute_result"
    }
   ],
   "source": [
    "df.shape"
   ]
  },
  {
   "cell_type": "code",
   "execution_count": 28,
   "metadata": {},
   "outputs": [],
   "source": [
    "df.to_csv('embeddings.tsv', sep='\\t', index=False, header=False)"
   ]
  },
  {
   "cell_type": "code",
   "execution_count": 29,
   "metadata": {},
   "outputs": [],
   "source": [
    "df2 = pd.DataFrame(itos)"
   ]
  },
  {
   "cell_type": "code",
   "execution_count": 30,
   "metadata": {},
   "outputs": [
    {
     "data": {
      "text/html": [
       "<div>\n",
       "<style scoped>\n",
       "    .dataframe tbody tr th:only-of-type {\n",
       "        vertical-align: middle;\n",
       "    }\n",
       "\n",
       "    .dataframe tbody tr th {\n",
       "        vertical-align: top;\n",
       "    }\n",
       "\n",
       "    .dataframe thead th {\n",
       "        text-align: right;\n",
       "    }\n",
       "</style>\n",
       "<table border=\"1\" class=\"dataframe\">\n",
       "  <thead>\n",
       "    <tr style=\"text-align: right;\">\n",
       "      <th></th>\n",
       "      <th>0</th>\n",
       "    </tr>\n",
       "  </thead>\n",
       "  <tbody>\n",
       "    <tr>\n",
       "      <th>0</th>\n",
       "      <td>&lt;unk&gt;</td>\n",
       "    </tr>\n",
       "    <tr>\n",
       "      <th>1</th>\n",
       "      <td>&lt;s&gt;</td>\n",
       "    </tr>\n",
       "    <tr>\n",
       "      <th>2</th>\n",
       "      <td>&lt;/s&gt;</td>\n",
       "    </tr>\n",
       "    <tr>\n",
       "      <th>3</th>\n",
       "      <td>▁</td>\n",
       "    </tr>\n",
       "    <tr>\n",
       "      <th>4</th>\n",
       "      <td>▁کے</td>\n",
       "    </tr>\n",
       "  </tbody>\n",
       "</table>\n",
       "</div>"
      ],
      "text/plain": [
       "       0\n",
       "0  <unk>\n",
       "1    <s>\n",
       "2   </s>\n",
       "3      ▁\n",
       "4    ▁کے"
      ]
     },
     "execution_count": 30,
     "metadata": {},
     "output_type": "execute_result"
    }
   ],
   "source": [
    "df2.head()"
   ]
  },
  {
   "cell_type": "code",
   "execution_count": 31,
   "metadata": {},
   "outputs": [
    {
     "data": {
      "text/plain": [
       "(30000, 1)"
      ]
     },
     "execution_count": 31,
     "metadata": {},
     "output_type": "execute_result"
    }
   ],
   "source": [
    "df2.shape"
   ]
  },
  {
   "cell_type": "code",
   "execution_count": 32,
   "metadata": {},
   "outputs": [],
   "source": [
    "df2.to_csv('embeddings_metadata.tsv', sep='\\t', index=False, header=False)"
   ]
  },
  {
   "cell_type": "code",
   "execution_count": 33,
   "metadata": {},
   "outputs": [
    {
     "data": {
      "text/plain": [
       "tensor([-1.2121e-01,  3.6493e-02, -1.3152e-02, -2.6623e-02,  4.7395e-02,\n",
       "        -2.0036e-01,  3.0797e-02,  1.0586e-01, -2.1727e-02, -1.2724e-01,\n",
       "        -1.5761e-02,  1.5594e-01, -1.2256e-01,  2.2788e-01,  5.4618e-02,\n",
       "         3.5848e-01, -2.1091e-02,  1.9302e-01, -1.4841e-01, -7.1024e-02,\n",
       "         7.2230e-02,  1.9907e-01, -5.7172e-02,  6.3306e-02,  3.4105e-02,\n",
       "         3.4476e-02, -4.1414e-02,  5.7155e-02, -1.4124e-01,  5.4504e-02,\n",
       "        -3.0947e-02,  6.1541e-02, -1.3017e-01,  1.7188e-01,  4.8557e-02,\n",
       "         3.7693e-02, -2.5805e-01, -5.9561e-02, -1.1908e-02,  2.9839e-01,\n",
       "         1.5530e-01,  1.2869e-02, -1.4995e-01, -4.4927e-02,  2.9349e-02,\n",
       "         3.0220e-02,  1.4753e-01,  1.1736e-01, -1.0810e-01, -2.8003e-03,\n",
       "         3.7500e-03,  3.4439e-01, -5.6529e-02,  1.2767e-01, -1.7533e-01,\n",
       "         1.5409e-01, -9.5927e-03, -7.1830e-02, -1.3555e-01,  3.8522e-02,\n",
       "         4.2367e-01, -8.4817e-03, -5.8666e-03,  5.8866e-02, -4.8150e-02,\n",
       "        -1.2494e-01, -2.5017e-01, -1.8804e-01, -2.0513e-01,  1.0829e-01,\n",
       "        -1.1651e-02,  9.8060e-02,  1.3406e-01, -2.6094e-01,  6.9194e-02,\n",
       "        -7.7383e-02,  9.3019e-03,  5.5931e-02, -2.6938e-01,  9.0555e-02,\n",
       "        -1.5679e-01,  1.4714e-01, -1.4937e-01,  1.2738e-01, -1.6270e-01,\n",
       "        -1.6223e-01,  3.9978e-01, -7.9072e-02,  7.3935e-03,  5.6662e-02,\n",
       "         6.0139e-03, -4.5035e-02, -1.9261e-01,  9.3416e-02, -3.7054e-02,\n",
       "        -1.6254e-02,  1.4044e-01, -1.1526e-01,  2.4228e-02, -1.1093e-01,\n",
       "         6.1141e-01,  1.8877e-01, -1.8726e-01,  1.9981e-01,  3.6002e-01,\n",
       "        -8.6917e-02, -6.2177e-02,  2.1378e-01,  2.8526e-01,  3.2077e-02,\n",
       "         1.1127e-01, -3.9195e-02, -1.8428e-02, -1.1730e-01, -8.2584e-02,\n",
       "         4.8429e-02, -1.6147e-01,  3.7686e-01,  3.5599e-02, -3.2630e-02,\n",
       "        -1.4500e-01, -1.6137e-01,  1.2368e-02, -3.9005e-04,  1.2279e-01,\n",
       "         8.9337e-02, -7.3873e-02,  5.6049e-03, -6.1463e-02,  3.4610e-02,\n",
       "         1.7878e-01, -1.5805e-01, -4.5354e-01, -3.4766e-01, -5.4442e-01,\n",
       "         2.8984e-02, -6.9412e-02, -2.8415e-02,  1.9911e-01, -1.3642e-02,\n",
       "        -2.0369e-01, -3.3241e-02, -3.3529e-01,  2.0997e-01, -9.6792e-02,\n",
       "        -1.6604e-01, -2.1977e-01,  1.0712e-02, -3.5675e-01, -7.3973e-02,\n",
       "        -2.6144e-02,  1.5364e-01,  1.5267e-01, -1.5869e-01, -2.6664e-01,\n",
       "        -2.6790e-02,  5.4813e-01,  3.7147e-02, -2.8661e-02,  1.4301e-01,\n",
       "        -9.2085e-02, -6.3686e-02,  1.3992e-02,  1.4384e-01, -8.3009e-02,\n",
       "        -4.8238e-01,  8.3824e-02, -6.6352e-02, -1.1278e-01,  4.1886e-01,\n",
       "        -4.0879e-02,  7.9526e-02,  6.8198e-02,  7.5211e-02, -4.7915e-02,\n",
       "         6.7631e-02,  5.1467e-02,  1.7335e-01,  2.5929e-01, -6.6778e-02,\n",
       "        -2.4379e-01, -1.5739e-03,  1.0012e-01,  1.7805e-01, -2.7775e-01,\n",
       "        -4.2073e-02,  7.0998e-02, -3.1286e-02, -1.5685e-01, -2.9288e-01,\n",
       "         2.0155e-01, -3.0610e-01, -1.2663e-01, -4.1859e-02, -7.3419e-02,\n",
       "        -2.2079e-01,  3.2059e-01, -2.1355e-01,  2.7590e-01, -2.0864e-01,\n",
       "        -1.6802e-01,  5.1990e-03, -4.7565e-02,  8.4390e-03, -4.0259e-01,\n",
       "         2.1027e-01, -1.3383e-01,  3.3173e-02, -1.9351e-01,  6.1694e-03,\n",
       "         4.2841e-01,  6.9630e-02,  5.3678e-02, -6.6101e-02, -6.2635e-02,\n",
       "        -9.1838e-03,  5.6645e-02,  9.5234e-02, -3.6001e-02,  2.0657e-01,\n",
       "         7.1628e-02,  8.4219e-02, -5.7733e-03, -4.4359e-02, -1.5450e-01,\n",
       "         3.6625e-01, -2.0574e-01,  1.9589e-01,  2.5310e-01,  1.4857e-01,\n",
       "        -2.2670e-01,  1.1800e-01, -2.0410e-02, -4.8134e-02,  2.5959e-01,\n",
       "        -3.0972e-02, -7.2263e-02,  1.4639e-01, -8.7525e-02, -1.3369e-01,\n",
       "         3.4526e-01, -1.2387e-01, -8.4627e-01,  1.4154e-01, -1.8366e-01,\n",
       "        -1.0396e-01, -9.9500e-02,  4.9791e-01, -1.2087e-01,  2.0934e-01,\n",
       "         1.6025e-01,  7.4447e-03,  3.3698e-02,  4.4409e-02, -9.1277e-02,\n",
       "         5.0159e-02, -1.6044e-01, -1.7770e-01,  7.2654e-02, -7.4883e-02,\n",
       "         3.1457e-01,  1.9744e-02,  5.3608e-01,  9.6725e-02,  1.8657e-01,\n",
       "        -5.2042e-02,  1.3944e-01,  1.7472e-01,  2.5632e-02, -1.4691e-01,\n",
       "        -2.4904e-01, -3.4401e-02,  2.4600e-01,  1.8511e-01,  9.0573e-02,\n",
       "        -1.6262e-01,  7.7317e-02,  1.0188e-01, -3.0127e-01, -1.5063e-01,\n",
       "         3.5191e-03,  5.5207e-01,  2.3103e-02, -1.6995e-01, -3.2566e-01,\n",
       "        -1.7512e-03,  5.4761e-01, -1.7298e-01,  7.0270e-02, -9.3273e-02,\n",
       "        -1.5752e-01,  9.4624e-03,  8.9613e-02, -6.1772e-02,  3.6986e-02,\n",
       "         1.2894e-01, -3.2353e-02,  3.6630e-02, -5.7356e-02, -1.4233e-01,\n",
       "         2.0777e-01, -3.7411e-02,  8.2443e-02,  1.7159e-01, -2.3532e-01,\n",
       "        -7.7607e-02, -1.0477e-01,  1.1986e-01,  1.1089e-01,  2.5417e-03,\n",
       "        -3.6607e-02,  2.8988e-02,  7.6117e-02, -5.8720e-02, -1.2696e-01,\n",
       "         3.8086e-01,  2.5158e-01,  2.6510e-03,  1.2087e-01,  2.1634e-01,\n",
       "         1.7425e-01, -3.7146e-01,  2.6819e-01, -7.3160e-02, -3.8296e-02,\n",
       "         2.5952e-01, -9.9865e-02,  2.0225e-02,  1.0663e-01, -1.1730e-02,\n",
       "         1.2053e-01,  1.4597e-01,  6.4573e-02, -1.4573e-01,  1.4634e-01,\n",
       "        -1.2479e-02,  1.1953e-01, -4.9220e-01,  2.2328e-01,  4.3567e-01,\n",
       "         4.2096e-01,  3.5436e-02,  3.1596e-02,  2.5086e-02,  1.9435e-01,\n",
       "        -9.8898e-02, -5.0763e-02,  2.1108e-02,  3.4113e-02,  1.5447e-01,\n",
       "         1.6528e-01,  5.8372e-02,  4.9701e-02, -9.6336e-02, -3.4766e-02,\n",
       "         3.3133e-01,  1.3046e-01,  1.4708e-01, -1.8783e-01, -4.4432e-02,\n",
       "        -2.5864e-01,  5.9630e-02, -3.3046e-01, -2.7050e-01,  9.3840e-02,\n",
       "         1.3187e-01, -1.0466e-01, -1.3553e-01, -3.8540e-02, -4.5832e-02,\n",
       "        -2.6535e-01, -2.8531e-01,  6.6580e-02,  3.2377e-01,  8.2058e-03,\n",
       "        -1.6342e-01,  2.1547e-01, -7.5082e-02,  1.2498e-01, -1.3529e-01,\n",
       "         6.3060e-01, -4.3499e-02, -2.9570e-01,  7.0151e-02,  9.0165e-02,\n",
       "         3.0801e-01,  1.3953e-02, -5.2308e-01, -2.4650e-01,  1.4405e-01,\n",
       "        -2.8368e-01, -4.2465e-02,  2.0871e-02, -4.9846e-02,  4.0019e-01,\n",
       "        -4.8322e-01,  1.8507e-01,  2.4078e-02, -3.7641e-02, -3.4419e-01])"
      ]
     },
     "execution_count": 33,
     "metadata": {},
     "output_type": "execute_result"
    }
   ],
   "source": [
    "encoder.state_dict()['encoder.weight'][1]"
   ]
  },
  {
   "cell_type": "code",
   "execution_count": null,
   "metadata": {},
   "outputs": [],
   "source": []
  }
 ],
 "metadata": {
  "accelerator": "GPU",
  "colab": {
   "name": "Urdu_Language_Model.ipynb",
   "provenance": [],
   "version": "0.3.2"
  },
  "kernelspec": {
   "display_name": "Python 3",
   "language": "python",
   "name": "python3"
  },
  "language_info": {
   "codemirror_mode": {
    "name": "ipython",
    "version": 3
   },
   "file_extension": ".py",
   "mimetype": "text/x-python",
   "name": "python",
   "nbconvert_exporter": "python",
   "pygments_lexer": "ipython3",
   "version": "3.7.4"
  }
 },
 "nbformat": 4,
 "nbformat_minor": 2
}
