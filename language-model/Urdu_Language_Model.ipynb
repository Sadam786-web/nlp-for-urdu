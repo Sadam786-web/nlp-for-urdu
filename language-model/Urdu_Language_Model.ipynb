{
 "cells": [
  {
   "cell_type": "code",
   "execution_count": 1,
   "metadata": {},
   "outputs": [],
   "source": [
    "%reload_ext autoreload\n",
    "%autoreload 2\n",
    "%matplotlib inline"
   ]
  },
  {
   "cell_type": "code",
   "execution_count": 2,
   "metadata": {
    "colab": {},
    "colab_type": "code",
    "id": "IwVgTNGDoNoo"
   },
   "outputs": [],
   "source": [
    "from fastai.text import *\n",
    "import numpy as np\n",
    "from sklearn.model_selection import train_test_split\n",
    "import pickle\n",
    "import sentencepiece as spm"
   ]
  },
  {
   "cell_type": "code",
   "execution_count": 3,
   "metadata": {
    "colab": {
     "base_uri": "https://localhost:8080/",
     "height": 35
    },
    "colab_type": "code",
    "executionInfo": {
     "elapsed": 1326,
     "status": "ok",
     "timestamp": 1555090802079,
     "user": {
      "displayName": "Anurag Singh",
      "photoUrl": "https://lh3.googleusercontent.com/-oZFveA_nC3o/AAAAAAAAAAI/AAAAAAAAAO0/S1uGDMOYRgk/s64/photo.jpg",
      "userId": "02138464107931395468"
     },
     "user_tz": -330
    },
    "id": "me1gujePoc6r",
    "outputId": "46b973c4-2ecf-4d17-b811-6f0b245cd212"
   },
   "outputs": [
    {
     "data": {
      "text/plain": [
       "('1.0.40', '1.0.1.post2')"
      ]
     },
     "execution_count": 3,
     "metadata": {},
     "output_type": "execute_result"
    }
   ],
   "source": [
    "import fastai, torch\n",
    "fastai.__version__ , torch.__version__"
   ]
  },
  {
   "cell_type": "code",
   "execution_count": 3,
   "metadata": {
    "colab": {},
    "colab_type": "code",
    "id": "66hWLS6aooA1"
   },
   "outputs": [],
   "source": [
    "torch.cuda.set_device(0)"
   ]
  },
  {
   "cell_type": "code",
   "execution_count": 4,
   "metadata": {},
   "outputs": [],
   "source": [
    "path = Path('/home/anurag/practice/nlp-for-urdu/language-model')"
   ]
  },
  {
   "cell_type": "code",
   "execution_count": 5,
   "metadata": {},
   "outputs": [],
   "source": [
    "p = path.glob('UrduWikipediaArticles/*')\n",
    "files = [x for x in p if x.is_file()]"
   ]
  },
  {
   "cell_type": "code",
   "execution_count": 6,
   "metadata": {},
   "outputs": [
    {
     "data": {
      "text/plain": [
       "153814"
      ]
     },
     "execution_count": 6,
     "metadata": {},
     "output_type": "execute_result"
    }
   ],
   "source": [
    "len(files)"
   ]
  },
  {
   "cell_type": "code",
   "execution_count": 7,
   "metadata": {},
   "outputs": [],
   "source": [
    "train_files, test_files = train_test_split(files, test_size=0.3,random_state=2019)"
   ]
  },
  {
   "cell_type": "code",
   "execution_count": 8,
   "metadata": {},
   "outputs": [
    {
     "data": {
      "text/plain": [
       "(107669, 46145)"
      ]
     },
     "execution_count": 8,
     "metadata": {},
     "output_type": "execute_result"
    }
   ],
   "source": [
    "len(train_files), len(test_files)"
   ]
  },
  {
   "cell_type": "code",
   "execution_count": 9,
   "metadata": {},
   "outputs": [
    {
     "data": {
      "text/plain": [
       "PosixPath('/home/anurag/practice/nlp-for-urdu/language-model/UrduWikipediaArticles/222953.pkl')"
      ]
     },
     "execution_count": 9,
     "metadata": {},
     "output_type": "execute_result"
    }
   ],
   "source": [
    "train_files[0]"
   ]
  },
  {
   "cell_type": "code",
   "execution_count": 10,
   "metadata": {},
   "outputs": [
    {
     "data": {
      "text/plain": [
       "'222953'"
      ]
     },
     "execution_count": 10,
     "metadata": {},
     "output_type": "execute_result"
    }
   ],
   "source": [
    "str(train_files[0]).split('/')[-1][:-4]"
   ]
  },
  {
   "cell_type": "code",
   "execution_count": 11,
   "metadata": {},
   "outputs": [],
   "source": [
    "# Preparing dataset for fastai\n",
    "for file in train_files:\n",
    "    with open(file, 'rb') as f:\n",
    "        text = pickle.load(f)\n",
    "    with open(path/'UrduDataset'/'train'/(str(file).split('/')[-1][:-4]+'.txt'), \"w\") as text_file:\n",
    "        text_file.write(text)"
   ]
  },
  {
   "cell_type": "code",
   "execution_count": 12,
   "metadata": {},
   "outputs": [],
   "source": [
    "for file in test_files:\n",
    "    with open(file, 'rb') as f:\n",
    "        text = pickle.load(f)\n",
    "    with open(path/'UrduDataset'/'valid'/(str(file).split('/')[-1][:-4]+'.txt'), \"w\") as text_file:\n",
    "        text_file.write(text)"
   ]
  },
  {
   "cell_type": "code",
   "execution_count": 4,
   "metadata": {
    "colab": {},
    "colab_type": "code",
    "id": "86oUCOs2oqRo"
   },
   "outputs": [],
   "source": [
    "class UrduTokenizer(BaseTokenizer):\n",
    "    def __init__(self, lang:str):\n",
    "        self.lang = lang\n",
    "        self.sp = spm.SentencePieceProcessor()\n",
    "        self.sp.Load(str(path/\"../tokenizer/urdu_lm.model\"))\n",
    "        \n",
    "    def tokenizer(self, t:str) -> List[str]:\n",
    "        return self.sp.EncodeAsPieces(t)"
   ]
  },
  {
   "cell_type": "code",
   "execution_count": 5,
   "metadata": {
    "colab": {},
    "colab_type": "code",
    "id": "-fucar0ipS6h"
   },
   "outputs": [],
   "source": [
    "sp = spm.SentencePieceProcessor()\n",
    "sp.Load(str(path/\"../tokenizer/urdu_lm.model\"))\n",
    "itos = [sp.IdToPiece(int(i)) for i in range(30000)]"
   ]
  },
  {
   "cell_type": "code",
   "execution_count": 6,
   "metadata": {
    "colab": {},
    "colab_type": "code",
    "id": "04tP6drWpWbt"
   },
   "outputs": [],
   "source": [
    "urdu_vocab = Vocab(itos)"
   ]
  },
  {
   "cell_type": "code",
   "execution_count": 7,
   "metadata": {
    "colab": {},
    "colab_type": "code",
    "id": "P5DaVjxypYhH"
   },
   "outputs": [],
   "source": [
    "tokenizer = Tokenizer(tok_func=UrduTokenizer, lang='ur')"
   ]
  },
  {
   "cell_type": "code",
   "execution_count": 8,
   "metadata": {
    "colab": {
     "base_uri": "https://localhost:8080/",
     "height": 35
    },
    "colab_type": "code",
    "executionInfo": {
     "elapsed": 805,
     "status": "ok",
     "timestamp": 1555092031810,
     "user": {
      "displayName": "Anurag Singh",
      "photoUrl": "https://lh3.googleusercontent.com/-oZFveA_nC3o/AAAAAAAAAAI/AAAAAAAAAO0/S1uGDMOYRgk/s64/photo.jpg",
      "userId": "02138464107931395468"
     },
     "user_tz": -330
    },
    "id": "kLIHR42ApaRQ",
    "outputId": "b3e36d49-506d-4ccb-b984-93b48b68a83e"
   },
   "outputs": [
    {
     "data": {
      "text/plain": [
       "['xxunk', 'xxpad', 'xxbos', 'xxfld', 'xxmaj', 'xxup', 'xxrep', 'xxwrep']"
      ]
     },
     "execution_count": 8,
     "metadata": {},
     "output_type": "execute_result"
    }
   ],
   "source": [
    "tokenizer.special_cases"
   ]
  },
  {
   "cell_type": "code",
   "execution_count": 9,
   "metadata": {
    "colab": {},
    "colab_type": "code",
    "id": "dHhiu_eipcwd",
    "scrolled": true
   },
   "outputs": [],
   "source": [
    "data_lm = TextLMDataBunch.from_folder(path=path/'UrduDataset', tokenizer=tokenizer, vocab=urdu_vocab)"
   ]
  },
  {
   "cell_type": "code",
   "execution_count": 10,
   "metadata": {
    "colab": {},
    "colab_type": "code",
    "id": "nLqqPxW2pl8s"
   },
   "outputs": [],
   "source": [
    "data_lm.save()"
   ]
  },
  {
   "cell_type": "code",
   "execution_count": 4,
   "metadata": {},
   "outputs": [],
   "source": [
    "data_lm = TextLMDataBunch.load(path=path/'UrduDataset')"
   ]
  },
  {
   "cell_type": "code",
   "execution_count": 5,
   "metadata": {
    "colab": {},
    "colab_type": "code",
    "id": "PkSlOJaypn3O"
   },
   "outputs": [
    {
     "data": {
      "text/html": [
       "<table>  <col width='5%'>  <col width='95%'>  <tr>\n",
       "    <th>idx</th>\n",
       "    <th>text</th>\n",
       "  </tr>\n",
       "  <tr>\n",
       "    <th>0</th>\n",
       "    <th>▁ xx bo s ▁رینڈولف ▁کاؤنٹی ، ▁الاباما ▁ریاستہائے ▁متحدہ ▁امریکا ▁کا ▁ایک ▁رہائشی ▁علاقہ ▁جو ▁الاباما ▁میں ▁واقع ▁ہے۔ ▁رینڈولف ▁کاؤنٹی ، ▁الاباما ▁کا ▁رقبہ ▁1 ,512 .56 ▁مربع ▁کیلومیٹر ▁ہے ، ▁ہے۔ ▁کی ▁مجموع ی ▁آبادی ▁ xx bo s ▁ xx bo s ▁ریاستہائے ▁متحدہ ▁امریکا ▁کی ▁ریاست ▁نیویارک ▁کی ▁ایک ▁کاؤنٹی - ▁ xx bo s ▁حب ق وق ▁انبیائے ▁بنی ▁اسرائیل ▁میں ▁سے ▁ایک ▁نبی</th>\n",
       "  </tr>\n",
       "  <tr>\n",
       "    <th>1</th>\n",
       "    <th>▁بنجر ▁زمینوں ▁پر ▁نمو ▁پاتا ▁ہے۔ ▁اس ▁کا ▁ تنا ▁بوتل ▁نما ▁ہوتا ▁ہے ▁جس ▁میں ▁بڑی ▁مقدار ▁میں ▁پانی ▁جمع ▁رہتا ▁ہے۔ ▁ایک ▁اندازے ▁کے ▁مطابق ▁اس ▁درخت ▁کے ▁ تنے ▁میں ▁ایک ▁لاکھ ▁بیس ▁ہزار ▁لیٹر ▁پانی ▁جمع ▁کرنے ▁کی ▁گنجائش ▁ہوتی ▁ہے ، ▁جو ▁اس ▁بنجر ▁علاقے ▁میں ▁انسانوں ▁اور ▁جنگلی ▁حیات ▁کے ▁لیے ▁زندگی ▁کی ▁علامت ▁سمجھا ▁جاتا ▁ہے۔ ▁اس ▁درخت ▁کی ▁ایک ▁اور ▁بات ▁جو</th>\n",
       "  </tr>\n",
       "  <tr>\n",
       "    <th>2</th>\n",
       "    <th>▁مضمون ▁ملاحظ ہ ▁ہو : ▁م َّ ا ▁خ َ ل ْ ق ُ ك ُ م ْ ▁و َ ل َ ا ▁ب َ ع ْ ث ُ ك ُ م ْ ▁إ ِ ل َّ ا ▁ك َ ن َ ف ْ س ٍ ▁و َ اح ِ د َ ة ٍ ▁۔۔۔ تم ▁سارے ▁انسانوں ▁کو پیدا ▁کرنا اور ▁پھر ▁دوبارہ ▁زندگی ▁بخش نا ▁تو ▁بس ▁ایسا</th>\n",
       "  </tr>\n",
       "  <tr>\n",
       "    <th>3</th>\n",
       "    <th>▁اس ▁کے ▁بعد ▁ایک ▁ہزار ▁سات ▁سو ▁تریانوے ▁یا ▁سترہ ▁سو ▁تریانوے ▁بولا ▁جاتا ▁ہے۔ ▁ xx bo s ▁محافظہ ▁قل قی لیہ ▁فلسطین ▁کے ▁سولہ ▁محافظ ات ▁میں ▁سے ▁ایک ▁ہے ، ▁جو ▁مغربی ▁کنارہ ▁میں ▁واقع ▁ہے۔ ▁ xx bo s ▁مملکت ▁ھو ل ندا ▁ایک ▁خود ▁مختار ▁ریاست ▁اور ▁آئینی ▁بادشاہت ▁ہے ▁کو ▁کہ ▁مغربی ▁یورپ ▁کے ▁ساتھ ▁کیریبین ▁میں ▁پھیلی ▁ہوئی ▁ہے۔ ▁مملکت ▁نیدرلینڈز ▁اس ▁وقت</th>\n",
       "  </tr>\n",
       "  <tr>\n",
       "    <th>4</th>\n",
       "    <th>▁متن ▁· ▁انگریزی ▁ترجمہ ▁قرآن ▁مجید ▁کی ▁41 ▁ویں ▁سورت ▁جو ▁سو رۂ ▁ف ُ ص ّ ِ ل َ ت ▁بھی ▁کہلاتی ▁ہے۔ ▁اس ▁میں ▁54 ▁آیات ▁اور ▁6 ▁رکوع ▁ہیں۔ ▁اس ▁سورت ▁کا ▁نام ▁دو ▁لفظ وں ▁سے ▁مرکب ▁ہے ▁ایک ▁ح ٰ م ▁دوسرے ▁السجد ہ ▁مطلب ▁یہ ▁ہے ▁کہ ▁وہ ▁سورت ▁جس ▁کا ▁آغاز ▁ح ٰ م ▁سے ▁ہوتا ▁ہے ▁اور ▁جس ▁میں ▁ایک ▁مقام ▁پر</th>\n",
       "  </tr>\n",
       "</table>\n"
      ],
      "text/plain": [
       "<IPython.core.display.HTML object>"
      ]
     },
     "metadata": {},
     "output_type": "display_data"
    }
   ],
   "source": [
    "data_lm.show_batch()"
   ]
  },
  {
   "cell_type": "code",
   "execution_count": 6,
   "metadata": {
    "colab": {},
    "colab_type": "code",
    "id": "4Ga3phL0prUp"
   },
   "outputs": [
    {
     "data": {
      "text/plain": [
       "30000"
      ]
     },
     "execution_count": 6,
     "metadata": {},
     "output_type": "execute_result"
    }
   ],
   "source": [
    "len(data_lm.vocab.itos)"
   ]
  },
  {
   "cell_type": "code",
   "execution_count": 7,
   "metadata": {},
   "outputs": [],
   "source": [
    "learn = language_model_learner(data_lm, drop_mult=0.3)"
   ]
  },
  {
   "cell_type": "code",
   "execution_count": 8,
   "metadata": {},
   "outputs": [
    {
     "data": {
      "text/plain": [
       "0"
      ]
     },
     "execution_count": 8,
     "metadata": {},
     "output_type": "execute_result"
    }
   ],
   "source": [
    "gc.collect()"
   ]
  },
  {
   "cell_type": "code",
   "execution_count": 15,
   "metadata": {},
   "outputs": [
    {
     "data": {
      "text/html": [],
      "text/plain": [
       "<IPython.core.display.HTML object>"
      ]
     },
     "metadata": {},
     "output_type": "display_data"
    },
    {
     "name": "stdout",
     "output_type": "stream",
     "text": [
      "LR Finder is complete, type {learner_name}.recorder.plot() to see the graph.\n"
     ]
    },
    {
     "data": {
      "image/png": "[encoded data removed]",
      "text/plain": [
       "<Figure size 432x288 with 1 Axes>"
      ]
     },
     "metadata": {},
     "output_type": "display_data"
    }
   ],
   "source": [
    "learn.lr_find()\n",
    "learn.recorder.plot()"
   ]
  },
  {
   "cell_type": "code",
   "execution_count": 16,
   "metadata": {},
   "outputs": [
    {
     "data": {
      "text/html": [
       "Total time: 30:21 <p><table border=\"1\" class=\"dataframe\">\n",
       "  <thead>\n",
       "    <tr style=\"text-align: left;\">\n",
       "      <th>epoch</th>\n",
       "      <th>train_loss</th>\n",
       "      <th>valid_loss</th>\n",
       "      <th>accuracy</th>\n",
       "    </tr>\n",
       "  </thead>\n",
       "  <tbody>\n",
       "    <tr>\n",
       "      <td>1</td>\n",
       "      <td>3.851694</td>\n",
       "      <td>3.756488</td>\n",
       "      <td>0.363578</td>\n",
       "    </tr>\n",
       "  </tbody>\n",
       "</table>"
      ],
      "text/plain": [
       "<IPython.core.display.HTML object>"
      ]
     },
     "metadata": {},
     "output_type": "display_data"
    }
   ],
   "source": [
    "learn.fit_one_cycle(1, 1e-2, moms=(0.8,0.7))"
   ]
  },
  {
   "cell_type": "code",
   "execution_count": 17,
   "metadata": {},
   "outputs": [],
   "source": [
    "learn.save('first', with_opt=True)"
   ]
  },
  {
   "cell_type": "code",
   "execution_count": 18,
   "metadata": {},
   "outputs": [],
   "source": [
    "learn.load('first', with_opt=True);"
   ]
  },
  {
   "cell_type": "code",
   "execution_count": 9,
   "metadata": {},
   "outputs": [],
   "source": [
    "learn.unfreeze()"
   ]
  },
  {
   "cell_type": "code",
   "execution_count": 20,
   "metadata": {},
   "outputs": [
    {
     "data": {
      "text/html": [
       "Total time: 2:32:36 <p><table border=\"1\" class=\"dataframe\">\n",
       "  <thead>\n",
       "    <tr style=\"text-align: left;\">\n",
       "      <th>epoch</th>\n",
       "      <th>train_loss</th>\n",
       "      <th>valid_loss</th>\n",
       "      <th>accuracy</th>\n",
       "    </tr>\n",
       "  </thead>\n",
       "  <tbody>\n",
       "    <tr>\n",
       "      <td>1</td>\n",
       "      <td>3.756290</td>\n",
       "      <td>3.822223</td>\n",
       "      <td>0.353836</td>\n",
       "    </tr>\n",
       "    <tr>\n",
       "      <td>2</td>\n",
       "      <td>3.685229</td>\n",
       "      <td>3.799644</td>\n",
       "      <td>0.352893</td>\n",
       "    </tr>\n",
       "    <tr>\n",
       "      <td>3</td>\n",
       "      <td>3.589541</td>\n",
       "      <td>3.521406</td>\n",
       "      <td>0.385709</td>\n",
       "    </tr>\n",
       "    <tr>\n",
       "      <td>4</td>\n",
       "      <td>3.166971</td>\n",
       "      <td>3.220029</td>\n",
       "      <td>0.428290</td>\n",
       "    </tr>\n",
       "    <tr>\n",
       "      <td>5</td>\n",
       "      <td>3.149071</td>\n",
       "      <td>3.101883</td>\n",
       "      <td>0.447893</td>\n",
       "    </tr>\n",
       "  </tbody>\n",
       "</table>"
      ],
      "text/plain": [
       "<IPython.core.display.HTML object>"
      ]
     },
     "metadata": {},
     "output_type": "display_data"
    }
   ],
   "source": [
    "learn.fit_one_cycle(5, 1e-2, moms=(0.8,0.7))"
   ]
  },
  {
   "cell_type": "code",
   "execution_count": 21,
   "metadata": {},
   "outputs": [],
   "source": [
    "learn.save('second-ur-lm', with_opt=True)"
   ]
  },
  {
   "cell_type": "code",
   "execution_count": 10,
   "metadata": {},
   "outputs": [],
   "source": [
    "learn.load('second-ur-lm', with_opt=True);"
   ]
  },
  {
   "cell_type": "code",
   "execution_count": 11,
   "metadata": {},
   "outputs": [
    {
     "data": {
      "text/html": [
       "Total time: 15:02:07 <p><table border=\"1\" class=\"dataframe\">\n",
       "  <thead>\n",
       "    <tr style=\"text-align: left;\">\n",
       "      <th>epoch</th>\n",
       "      <th>train_loss</th>\n",
       "      <th>valid_loss</th>\n",
       "      <th>accuracy</th>\n",
       "    </tr>\n",
       "  </thead>\n",
       "  <tbody>\n",
       "    <tr>\n",
       "      <td>1</td>\n",
       "      <td>2.928500</td>\n",
       "      <td>3.092237</td>\n",
       "      <td>0.449652</td>\n",
       "    </tr>\n",
       "    <tr>\n",
       "      <td>2</td>\n",
       "      <td>3.040899</td>\n",
       "      <td>3.080851</td>\n",
       "      <td>0.451736</td>\n",
       "    </tr>\n",
       "    <tr>\n",
       "      <td>3</td>\n",
       "      <td>2.966673</td>\n",
       "      <td>3.068852</td>\n",
       "      <td>0.454310</td>\n",
       "    </tr>\n",
       "    <tr>\n",
       "      <td>4</td>\n",
       "      <td>3.010943</td>\n",
       "      <td>3.046978</td>\n",
       "      <td>0.458104</td>\n",
       "    </tr>\n",
       "    <tr>\n",
       "      <td>5</td>\n",
       "      <td>2.881997</td>\n",
       "      <td>3.021647</td>\n",
       "      <td>0.462656</td>\n",
       "    </tr>\n",
       "    <tr>\n",
       "      <td>6</td>\n",
       "      <td>2.825207</td>\n",
       "      <td>2.996819</td>\n",
       "      <td>0.467186</td>\n",
       "    </tr>\n",
       "    <tr>\n",
       "      <td>7</td>\n",
       "      <td>2.938460</td>\n",
       "      <td>2.970946</td>\n",
       "      <td>0.471994</td>\n",
       "    </tr>\n",
       "    <tr>\n",
       "      <td>8</td>\n",
       "      <td>2.938644</td>\n",
       "      <td>2.940169</td>\n",
       "      <td>0.477906</td>\n",
       "    </tr>\n",
       "    <tr>\n",
       "      <td>9</td>\n",
       "      <td>2.873854</td>\n",
       "      <td>2.917158</td>\n",
       "      <td>0.482316</td>\n",
       "    </tr>\n",
       "    <tr>\n",
       "      <td>10</td>\n",
       "      <td>2.932488</td>\n",
       "      <td>2.889037</td>\n",
       "      <td>0.487278</td>\n",
       "    </tr>\n",
       "    <tr>\n",
       "      <td>11</td>\n",
       "      <td>2.801504</td>\n",
       "      <td>2.854249</td>\n",
       "      <td>0.493791</td>\n",
       "    </tr>\n",
       "    <tr>\n",
       "      <td>12</td>\n",
       "      <td>2.716863</td>\n",
       "      <td>2.828580</td>\n",
       "      <td>0.498812</td>\n",
       "    </tr>\n",
       "    <tr>\n",
       "      <td>13</td>\n",
       "      <td>2.678477</td>\n",
       "      <td>2.804468</td>\n",
       "      <td>0.503224</td>\n",
       "    </tr>\n",
       "    <tr>\n",
       "      <td>14</td>\n",
       "      <td>2.594504</td>\n",
       "      <td>2.781327</td>\n",
       "      <td>0.507829</td>\n",
       "    </tr>\n",
       "    <tr>\n",
       "      <td>15</td>\n",
       "      <td>2.569956</td>\n",
       "      <td>2.755257</td>\n",
       "      <td>0.512586</td>\n",
       "    </tr>\n",
       "    <tr>\n",
       "      <td>16</td>\n",
       "      <td>2.633062</td>\n",
       "      <td>2.745617</td>\n",
       "      <td>0.515139</td>\n",
       "    </tr>\n",
       "    <tr>\n",
       "      <td>17</td>\n",
       "      <td>2.581402</td>\n",
       "      <td>2.715610</td>\n",
       "      <td>0.520409</td>\n",
       "    </tr>\n",
       "    <tr>\n",
       "      <td>18</td>\n",
       "      <td>2.600442</td>\n",
       "      <td>2.695653</td>\n",
       "      <td>0.523931</td>\n",
       "    </tr>\n",
       "    <tr>\n",
       "      <td>19</td>\n",
       "      <td>2.568641</td>\n",
       "      <td>2.676588</td>\n",
       "      <td>0.528100</td>\n",
       "    </tr>\n",
       "    <tr>\n",
       "      <td>20</td>\n",
       "      <td>2.460470</td>\n",
       "      <td>2.659172</td>\n",
       "      <td>0.531143</td>\n",
       "    </tr>\n",
       "    <tr>\n",
       "      <td>21</td>\n",
       "      <td>2.563756</td>\n",
       "      <td>2.646577</td>\n",
       "      <td>0.534088</td>\n",
       "    </tr>\n",
       "    <tr>\n",
       "      <td>22</td>\n",
       "      <td>2.500990</td>\n",
       "      <td>2.634939</td>\n",
       "      <td>0.536231</td>\n",
       "    </tr>\n",
       "    <tr>\n",
       "      <td>23</td>\n",
       "      <td>2.387974</td>\n",
       "      <td>2.623182</td>\n",
       "      <td>0.538332</td>\n",
       "    </tr>\n",
       "    <tr>\n",
       "      <td>24</td>\n",
       "      <td>2.293152</td>\n",
       "      <td>2.615403</td>\n",
       "      <td>0.540325</td>\n",
       "    </tr>\n",
       "    <tr>\n",
       "      <td>25</td>\n",
       "      <td>2.437191</td>\n",
       "      <td>2.605516</td>\n",
       "      <td>0.541917</td>\n",
       "    </tr>\n",
       "    <tr>\n",
       "      <td>26</td>\n",
       "      <td>2.523114</td>\n",
       "      <td>2.602097</td>\n",
       "      <td>0.542748</td>\n",
       "    </tr>\n",
       "    <tr>\n",
       "      <td>27</td>\n",
       "      <td>2.569603</td>\n",
       "      <td>2.597097</td>\n",
       "      <td>0.543651</td>\n",
       "    </tr>\n",
       "    <tr>\n",
       "      <td>28</td>\n",
       "      <td>2.301344</td>\n",
       "      <td>2.594722</td>\n",
       "      <td>0.544100</td>\n",
       "    </tr>\n",
       "    <tr>\n",
       "      <td>29</td>\n",
       "      <td>2.469531</td>\n",
       "      <td>2.594049</td>\n",
       "      <td>0.544209</td>\n",
       "    </tr>\n",
       "    <tr>\n",
       "      <td>30</td>\n",
       "      <td>2.511081</td>\n",
       "      <td>2.593889</td>\n",
       "      <td>0.544207</td>\n",
       "    </tr>\n",
       "  </tbody>\n",
       "</table>"
      ],
      "text/plain": [
       "<IPython.core.display.HTML object>"
      ]
     },
     "metadata": {},
     "output_type": "display_data"
    }
   ],
   "source": [
    "learn.fit_one_cycle(30, 1e-3, moms=(0.8,0.7))"
   ]
  },
  {
   "cell_type": "code",
   "execution_count": 12,
   "metadata": {},
   "outputs": [],
   "source": [
    "learn.save('third-ur-lm', with_opt=True)"
   ]
  },
  {
   "cell_type": "code",
   "execution_count": 13,
   "metadata": {},
   "outputs": [],
   "source": [
    "learn.load('third-ur-lm', with_opt=True);"
   ]
  },
  {
   "cell_type": "code",
   "execution_count": 14,
   "metadata": {},
   "outputs": [
    {
     "data": {
      "text/html": [
       "Total time: 5:00:45 <p><table border=\"1\" class=\"dataframe\">\n",
       "  <thead>\n",
       "    <tr style=\"text-align: left;\">\n",
       "      <th>epoch</th>\n",
       "      <th>train_loss</th>\n",
       "      <th>valid_loss</th>\n",
       "      <th>accuracy</th>\n",
       "    </tr>\n",
       "  </thead>\n",
       "  <tbody>\n",
       "    <tr>\n",
       "      <td>1</td>\n",
       "      <td>2.373808</td>\n",
       "      <td>2.593668</td>\n",
       "      <td>0.544237</td>\n",
       "    </tr>\n",
       "    <tr>\n",
       "      <td>2</td>\n",
       "      <td>2.236325</td>\n",
       "      <td>2.592030</td>\n",
       "      <td>0.544580</td>\n",
       "    </tr>\n",
       "    <tr>\n",
       "      <td>3</td>\n",
       "      <td>2.412799</td>\n",
       "      <td>2.592942</td>\n",
       "      <td>0.544528</td>\n",
       "    </tr>\n",
       "    <tr>\n",
       "      <td>4</td>\n",
       "      <td>2.393425</td>\n",
       "      <td>2.588914</td>\n",
       "      <td>0.545238</td>\n",
       "    </tr>\n",
       "    <tr>\n",
       "      <td>5</td>\n",
       "      <td>2.239298</td>\n",
       "      <td>2.586825</td>\n",
       "      <td>0.545738</td>\n",
       "    </tr>\n",
       "    <tr>\n",
       "      <td>6</td>\n",
       "      <td>2.450857</td>\n",
       "      <td>2.584988</td>\n",
       "      <td>0.546140</td>\n",
       "    </tr>\n",
       "    <tr>\n",
       "      <td>7</td>\n",
       "      <td>2.385140</td>\n",
       "      <td>2.583483</td>\n",
       "      <td>0.546425</td>\n",
       "    </tr>\n",
       "    <tr>\n",
       "      <td>8</td>\n",
       "      <td>2.526998</td>\n",
       "      <td>2.581815</td>\n",
       "      <td>0.546879</td>\n",
       "    </tr>\n",
       "    <tr>\n",
       "      <td>9</td>\n",
       "      <td>2.255459</td>\n",
       "      <td>2.580998</td>\n",
       "      <td>0.547135</td>\n",
       "    </tr>\n",
       "    <tr>\n",
       "      <td>10</td>\n",
       "      <td>2.494641</td>\n",
       "      <td>2.580521</td>\n",
       "      <td>0.547101</td>\n",
       "    </tr>\n",
       "  </tbody>\n",
       "</table>"
      ],
      "text/plain": [
       "<IPython.core.display.HTML object>"
      ]
     },
     "metadata": {},
     "output_type": "display_data"
    }
   ],
   "source": [
    "learn.fit_one_cycle(10, 1e-4, moms=(0.8,0.7))"
   ]
  },
  {
   "cell_type": "code",
   "execution_count": 15,
   "metadata": {},
   "outputs": [],
   "source": [
    "learn.save('fourth-ur-lm', with_opt=True)"
   ]
  },
  {
   "cell_type": "code",
   "execution_count": 9,
   "metadata": {},
   "outputs": [],
   "source": [
    "learn.load('fourth-ur-lm',with_opt=True);"
   ]
  },
  {
   "cell_type": "code",
   "execution_count": 14,
   "metadata": {},
   "outputs": [],
   "source": [
    "TEXT = \"میں کروں گا\"\n",
    "N_WORDS = 40\n",
    "N_SENTENCES = 2"
   ]
  },
  {
   "cell_type": "code",
   "execution_count": 15,
   "metadata": {},
   "outputs": [
    {
     "name": "stdout",
     "output_type": "stream",
     "text": [
      "میں کروں گا ؤ ی ▁اور ھا ▁ ے ▁ ، ▁ہم اح ▁ ، ▁ ی ه ▁ ہ ي ▁ي ▁چنے ▁ش َّ و ِ ی ▁ ، ▁ث ِ ی نو ▁ ، ▁اب و َ ▁ ، ▁اش َّ\n",
      "میں کروں گا ، ▁ہو ▁ ی ، ▁ ین کا ، ▁ یات سکو ، ▁ ونکس ، ▁ نگ جو نٹ ، ▁ سیکس ، ▁ ▁جک ▁الحشر ج ، ▁ سٹر ه د ▁کرو ، ▁ سٹر نٹ ▁اور ▁”\n"
     ]
    }
   ],
   "source": [
    "print(\"\\n\".join(learn.predict(TEXT, N_WORDS, temperature=0.9) for _ in range(N_SENTENCES)))"
   ]
  },
  {
   "cell_type": "code",
   "execution_count": 16,
   "metadata": {},
   "outputs": [
    {
     "data": {
      "text/plain": [
       "13.197138159658358"
      ]
     },
     "execution_count": 16,
     "metadata": {},
     "output_type": "execute_result"
    }
   ],
   "source": [
    "np.exp(2.58)"
   ]
  },
  {
   "cell_type": "code",
   "execution_count": null,
   "metadata": {},
   "outputs": [],
   "source": []
  }
 ],
 "metadata": {
  "accelerator": "GPU",
  "colab": {
   "name": "Urdu_Language_Model.ipynb",
   "provenance": [],
   "version": "0.3.2"
  },
  "kernelspec": {
   "display_name": "Python 3",
   "language": "python",
   "name": "python3"
  },
  "language_info": {
   "codemirror_mode": {
    "name": "ipython",
    "version": 3
   },
   "file_extension": ".py",
   "mimetype": "text/x-python",
   "name": "python",
   "nbconvert_exporter": "python",
   "pygments_lexer": "ipython3",
   "version": "3.6.5"
  }
 },
 "nbformat": 4,
 "nbformat_minor": 2
}
