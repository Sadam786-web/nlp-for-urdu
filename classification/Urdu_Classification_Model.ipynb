{
 "cells": [
  {
   "cell_type": "code",
   "execution_count": 1,
   "metadata": {},
   "outputs": [],
   "source": [
    "from fastai.text import *\n",
    "import numpy as np\n",
    "from sklearn.model_selection import train_test_split\n",
    "import pickle\n",
    "import sentencepiece as spm\n",
    "import re\n",
    "import pdb"
   ]
  },
  {
   "cell_type": "code",
   "execution_count": 2,
   "metadata": {},
   "outputs": [
    {
     "data": {
      "text/plain": [
       "('1.0.57', '1.1.0')"
      ]
     },
     "execution_count": 2,
     "metadata": {},
     "output_type": "execute_result"
    }
   ],
   "source": [
    "import fastai, torch\n",
    "fastai.__version__ , torch.__version__"
   ]
  },
  {
   "cell_type": "code",
   "execution_count": 3,
   "metadata": {},
   "outputs": [],
   "source": [
    "torch.cuda.set_device(0)"
   ]
  },
  {
   "cell_type": "code",
   "execution_count": 4,
   "metadata": {},
   "outputs": [
    {
     "name": "stdout",
     "output_type": "stream",
     "text": [
      "/home/gaurav/PycharmProjects/nlp-for-urdu/classification\r\n"
     ]
    }
   ],
   "source": [
    "!pwd"
   ]
  },
  {
   "cell_type": "code",
   "execution_count": 5,
   "metadata": {},
   "outputs": [],
   "source": [
    "path = Path('/home/gaurav/PycharmProjects/nlp-for-urdu/classification')"
   ]
  },
  {
   "cell_type": "code",
   "execution_count": 6,
   "metadata": {},
   "outputs": [
    {
     "data": {
      "text/html": [
       "<div>\n",
       "<style scoped>\n",
       "    .dataframe tbody tr th:only-of-type {\n",
       "        vertical-align: middle;\n",
       "    }\n",
       "\n",
       "    .dataframe tbody tr th {\n",
       "        vertical-align: top;\n",
       "    }\n",
       "\n",
       "    .dataframe thead th {\n",
       "        text-align: right;\n",
       "    }\n",
       "</style>\n",
       "<table border=\"1\" class=\"dataframe\">\n",
       "  <thead>\n",
       "    <tr style=\"text-align: right;\">\n",
       "      <th></th>\n",
       "      <th>headline</th>\n",
       "      <th>label</th>\n",
       "    </tr>\n",
       "  </thead>\n",
       "  <tbody>\n",
       "    <tr>\n",
       "      <td>0</td>\n",
       "      <td>سچن تیندولکر کا وراٹ کوہلی کو مشورہ، یہ غلطی ک...</td>\n",
       "      <td>cricket</td>\n",
       "    </tr>\n",
       "    <tr>\n",
       "      <td>1</td>\n",
       "      <td>گریٹر نوئیڈا میں ماں بیٹی کا سفاکانہ قتل، معام...</td>\n",
       "      <td>crime</td>\n",
       "    </tr>\n",
       "    <tr>\n",
       "      <td>2</td>\n",
       "      <td>عصمت چغتائی کے 107 ویں یوم پیدائش پر گُوگل کا ...</td>\n",
       "      <td>entertainment</td>\n",
       "    </tr>\n",
       "    <tr>\n",
       "      <td>3</td>\n",
       "      <td>فلم اسٹار انوپم کھیر فلم اینڈ ٹیلی ویژن انسٹی ...</td>\n",
       "      <td>entertainment</td>\n",
       "    </tr>\n",
       "    <tr>\n",
       "      <td>4</td>\n",
       "      <td>جموں۔ کشمیر: 9 سالہ بچی کی اجتماعی عصمت دری کے...</td>\n",
       "      <td>crime</td>\n",
       "    </tr>\n",
       "  </tbody>\n",
       "</table>\n",
       "</div>"
      ],
      "text/plain": [
       "                                            headline          label\n",
       "0  سچن تیندولکر کا وراٹ کوہلی کو مشورہ، یہ غلطی ک...        cricket\n",
       "1  گریٹر نوئیڈا میں ماں بیٹی کا سفاکانہ قتل، معام...          crime\n",
       "2  عصمت چغتائی کے 107 ویں یوم پیدائش پر گُوگل کا ...  entertainment\n",
       "3  فلم اسٹار انوپم کھیر فلم اینڈ ٹیلی ویژن انسٹی ...  entertainment\n",
       "4  جموں۔ کشمیر: 9 سالہ بچی کی اجتماعی عصمت دری کے...          crime"
      ]
     },
     "execution_count": 6,
     "metadata": {},
     "output_type": "execute_result"
    }
   ],
   "source": [
    "train_df = pd.read_csv(path/'train.csv')\n",
    "train_df.head()"
   ]
  },
  {
   "cell_type": "code",
   "execution_count": 7,
   "metadata": {},
   "outputs": [
    {
     "data": {
      "text/html": [
       "<div>\n",
       "<style scoped>\n",
       "    .dataframe tbody tr th:only-of-type {\n",
       "        vertical-align: middle;\n",
       "    }\n",
       "\n",
       "    .dataframe tbody tr th {\n",
       "        vertical-align: top;\n",
       "    }\n",
       "\n",
       "    .dataframe thead th {\n",
       "        text-align: right;\n",
       "    }\n",
       "</style>\n",
       "<table border=\"1\" class=\"dataframe\">\n",
       "  <thead>\n",
       "    <tr style=\"text-align: right;\">\n",
       "      <th></th>\n",
       "      <th>headline</th>\n",
       "      <th>label</th>\n",
       "    </tr>\n",
       "  </thead>\n",
       "  <tbody>\n",
       "    <tr>\n",
       "      <td>0</td>\n",
       "      <td>اسٹائلش بیٹی جھاہنوی کپور کے ساتھ کچھ اس انداز...</td>\n",
       "      <td>entertainment</td>\n",
       "    </tr>\n",
       "    <tr>\n",
       "      <td>1</td>\n",
       "      <td>کٹرینہ کیف نے کہا : دیپکا نے اپنی شادی میں مجھ...</td>\n",
       "      <td>entertainment</td>\n",
       "    </tr>\n",
       "    <tr>\n",
       "      <td>2</td>\n",
       "      <td>نیوزی لینڈ کے خلاف تیسرے فیصلہ کن ٹیسٹ میچ میں...</td>\n",
       "      <td>cricket</td>\n",
       "    </tr>\n",
       "    <tr>\n",
       "      <td>3</td>\n",
       "      <td>باپ بنے شاہد ، گھر آئی ننھی پری</td>\n",
       "      <td>entertainment</td>\n",
       "    </tr>\n",
       "    <tr>\n",
       "      <td>4</td>\n",
       "      <td>مشہور فلم اداکار کمل ہاسن سیڑھیوں سے گر کر زخم...</td>\n",
       "      <td>entertainment</td>\n",
       "    </tr>\n",
       "  </tbody>\n",
       "</table>\n",
       "</div>"
      ],
      "text/plain": [
       "                                            headline          label\n",
       "0  اسٹائلش بیٹی جھاہنوی کپور کے ساتھ کچھ اس انداز...  entertainment\n",
       "1  کٹرینہ کیف نے کہا : دیپکا نے اپنی شادی میں مجھ...  entertainment\n",
       "2  نیوزی لینڈ کے خلاف تیسرے فیصلہ کن ٹیسٹ میچ میں...        cricket\n",
       "3                    باپ بنے شاہد ، گھر آئی ننھی پری  entertainment\n",
       "4  مشہور فلم اداکار کمل ہاسن سیڑھیوں سے گر کر زخم...  entertainment"
      ]
     },
     "execution_count": 7,
     "metadata": {},
     "output_type": "execute_result"
    }
   ],
   "source": [
    "valid_df = pd.read_csv(path/'valid.csv')\n",
    "valid_df.head()"
   ]
  },
  {
   "cell_type": "code",
   "execution_count": 8,
   "metadata": {},
   "outputs": [
    {
     "name": "stdout",
     "output_type": "stream",
     "text": [
      "In Training data:\n",
      "cricket 1168\n",
      "crime 453\n",
      "entertainment 2110\n"
     ]
    }
   ],
   "source": [
    "print('In Training data:')\n",
    "for cls in train_df['label'].unique():\n",
    "    print(cls, (train_df['label'] == cls).sum())"
   ]
  },
  {
   "cell_type": "code",
   "execution_count": 9,
   "metadata": {},
   "outputs": [
    {
     "name": "stdout",
     "output_type": "stream",
     "text": [
      "In Validation data:\n",
      "entertainment 536\n",
      "cricket 290\n",
      "crime 107\n"
     ]
    }
   ],
   "source": [
    "print('In Validation data:')\n",
    "for cls in valid_df['label'].unique():\n",
    "    print(cls, (valid_df['label'] == cls).sum())"
   ]
  },
  {
   "cell_type": "code",
   "execution_count": 10,
   "metadata": {},
   "outputs": [
    {
     "data": {
      "text/plain": [
       "'سچن تیندولکر کا وراٹ کوہلی کو مشورہ، یہ غلطی کبھی مت کرنا، تباہ ہو جائے گا کیرئیر'"
      ]
     },
     "execution_count": 10,
     "metadata": {},
     "output_type": "execute_result"
    }
   ],
   "source": [
    "train_df['headline'][0]"
   ]
  },
  {
   "cell_type": "code",
   "execution_count": 11,
   "metadata": {},
   "outputs": [
    {
     "data": {
      "text/plain": [
       "((3731, 2), (933, 2))"
      ]
     },
     "execution_count": 11,
     "metadata": {},
     "output_type": "execute_result"
    }
   ],
   "source": [
    "train_df.shape, valid_df.shape"
   ]
  },
  {
   "cell_type": "code",
   "execution_count": 12,
   "metadata": {},
   "outputs": [
    {
     "data": {
      "text/plain": [
       "((0, 2), (0, 2))"
      ]
     },
     "execution_count": 12,
     "metadata": {},
     "output_type": "execute_result"
    }
   ],
   "source": [
    "train_df[train_df['headline'].isnull()].shape, valid_df[valid_df['headline'].isnull()].shape"
   ]
  },
  {
   "cell_type": "code",
   "execution_count": 13,
   "metadata": {},
   "outputs": [],
   "source": [
    "label_cols = list(range(1,train_df.shape[1]))"
   ]
  },
  {
   "cell_type": "code",
   "execution_count": 14,
   "metadata": {},
   "outputs": [
    {
     "name": "stdout",
     "output_type": "stream",
     "text": [
      "[1]\n"
     ]
    }
   ],
   "source": [
    "print(label_cols)"
   ]
  },
  {
   "cell_type": "code",
   "execution_count": 15,
   "metadata": {},
   "outputs": [],
   "source": [
    "id_to_col = list(train_df.columns)"
   ]
  },
  {
   "cell_type": "code",
   "execution_count": 16,
   "metadata": {},
   "outputs": [],
   "source": [
    "col_to_id = {}\n",
    "for i, col in enumerate(id_to_col):\n",
    "    col_to_id[col] = i"
   ]
  },
  {
   "cell_type": "code",
   "execution_count": 20,
   "metadata": {},
   "outputs": [],
   "source": [
    "class UrduTokenizer(BaseTokenizer):\n",
    "    def __init__(self, lang:str):\n",
    "        self.lang = lang\n",
    "        self.sp = spm.SentencePieceProcessor()\n",
    "        self.sp.Load(str(path/\"../tokenizer/urdu_lm.model\"))\n",
    "        \n",
    "    def tokenizer(self, t:str) -> List[str]:\n",
    "        return self.sp.EncodeAsPieces(t)"
   ]
  },
  {
   "cell_type": "code",
   "execution_count": 21,
   "metadata": {},
   "outputs": [],
   "source": [
    "sp = spm.SentencePieceProcessor()\n",
    "sp.Load(str(path/\"../tokenizer/urdu_lm.model\"))\n",
    "itos = [sp.IdToPiece(int(i)) for i in range(30000)]"
   ]
  },
  {
   "cell_type": "code",
   "execution_count": 22,
   "metadata": {},
   "outputs": [],
   "source": [
    "# 30,000 is the vocab size that we chose in sentencepiece\n",
    "urdu_vocab = Vocab(itos)"
   ]
  },
  {
   "cell_type": "code",
   "execution_count": 23,
   "metadata": {},
   "outputs": [],
   "source": [
    "tokenizer = Tokenizer(tok_func=UrduTokenizer, lang='ur')"
   ]
  },
  {
   "cell_type": "code",
   "execution_count": 24,
   "metadata": {},
   "outputs": [
    {
     "data": {
      "text/plain": [
       "['xxunk',\n",
       " 'xxpad',\n",
       " 'xxbos',\n",
       " 'xxeos',\n",
       " 'xxfld',\n",
       " 'xxmaj',\n",
       " 'xxup',\n",
       " 'xxrep',\n",
       " 'xxwrep']"
      ]
     },
     "execution_count": 24,
     "metadata": {},
     "output_type": "execute_result"
    }
   ],
   "source": [
    "tokenizer.special_cases"
   ]
  },
  {
   "cell_type": "code",
   "execution_count": 25,
   "metadata": {},
   "outputs": [],
   "source": [
    "data_lm = TextLMDataBunch.from_df(path=path, train_df=train_df, valid_df=valid_df, text_cols=[0], label_cols=label_cols, tokenizer=tokenizer, vocab=urdu_vocab, bs=16)"
   ]
  },
  {
   "cell_type": "code",
   "execution_count": 26,
   "metadata": {},
   "outputs": [],
   "source": [
    "data_lm.save()"
   ]
  },
  {
   "cell_type": "code",
   "execution_count": 27,
   "metadata": {},
   "outputs": [
    {
     "data": {
      "text/html": [
       "<table border=\"1\" class=\"dataframe\">\n",
       "  <thead>\n",
       "    <tr style=\"text-align: right;\">\n",
       "      <th>idx</th>\n",
       "      <th>text</th>\n",
       "    </tr>\n",
       "  </thead>\n",
       "  <tbody>\n",
       "    <tr>\n",
       "      <td>0</td>\n",
       "      <td>▁کے ▁ذریعہ ▁اردو ادیب ہ ▁کو ▁خراج ▁عقیدت ▁ xx bo s ▁فلم ▁اسٹار ▁ان وپ م ▁کھیر ▁فلم ▁اینڈ ▁ٹیلی ▁ویژن ▁انسٹی ▁ٹیوٹ ▁آف ▁انڈیا ▁کے ▁چیئرمین ▁مقرر ▁ xx bo s ▁جموں ۔ ▁کشمیر : ▁9 ▁سالہ ▁بچی ▁کی ▁اجتماعی ▁عصمت ▁دری ▁کے ▁بعد ▁آنکھیں ▁نکال ▁کر ▁جسم ▁پر ▁چھڑک ا ▁تیزاب ▁ xx bo s ▁بال ▁بال ▁بچ ▁گئے ▁نمبر ▁ایک ▁گیند ▁باز ▁جس پر یت ▁بم</td>\n",
       "    </tr>\n",
       "    <tr>\n",
       "      <td>1</td>\n",
       "      <td>▁اور رب اڈا ▁سے ▁شین ▁ واٹسن ▁کی ▁بحث ▁ xx bo s ▁ورن ▁دھون ▁فلم ▁کے ▁لئے ▁32 ▁کروڑ ▁روپے ▁فیس ▁لیں ▁گے ▁ xx bo s ▁شاہد ▁کے ▁لئے ▁بیوی ▁میرا ▁نے ▁سالگرہ ▁سے ▁پہلے ▁دی ▁شاندار ▁پارٹی ▁ xx bo s ▁اپنے ▁کپڑوں ▁کو ▁لے ▁کر ▁ٹرو ل ▁ہوئی ▁ا جے ▁دیو گن ▁کی ▁بیٹی ، ▁والد ▁نے ▁دیا ▁منہ ▁توڑ ▁جواب ▁ xx bo s ▁آسٹریلیا</td>\n",
       "    </tr>\n",
       "    <tr>\n",
       "      <td>2</td>\n",
       "      <td>▁کر ▁حاصل ▁کیا ▁پہلا ▁مقام ▁ xx bo s ▁اترپردیش ▁: ▁دوسری ▁شادی ▁کرنے ▁کیلئے ▁شوہر ▁نے ▁پانچ ▁ماہ ▁کی ▁حامل ہ ▁بیوی ▁کو ▁فون ▁پر ▁دیا ▁تین ▁طلاق ▁ xx bo s ▁بگ ▁بجٹ ▁کی ▁فلموں ▁کا ▁دور ▁کبھی ▁ختم ▁نہیں ▁ہوگا ▁: ▁ا جے ▁دیو گن ▁ xx bo s ▁ا ڑتا ▁پنجاب ▁نے ▁کی ▁پہلے ▁8 ▁دنوں ▁میں ▁50 ▁کروڑ ▁روپ ئے ▁کی ▁کمائی ▁ xx bo</td>\n",
       "    </tr>\n",
       "    <tr>\n",
       "      <td>3</td>\n",
       "      <td>▁بنائی ▁ xx bo s ▁ایشیا ▁کپ ▁کے ▁بعد ▁بنگلہ ▁دیشی ▁کھلاڑی ▁ لٹن ▁داس ▁کا ▁پھر ▁دھ ماک ہ ▁ ، ▁بنائی ▁طوفان ی ▁ڈبل ▁سنچری ▁ ، ▁لگائے ▁32 ▁چوک ے ▁ xx bo s ▁افیم ▁کھلا ▁کر ▁خواتین ▁کی ▁آبروریزی ▁کرتا ▁تھا ▁ز انی ▁' جلی بی ' ▁بابا ، ▁فحش ▁ویڈیو ▁بناکر کرتا ▁تھا ▁بلیک ▁میل ▁ xx bo s ▁ٹی ▁وی ▁کی ▁سب ▁سے ▁ہاٹ</td>\n",
       "    </tr>\n",
       "    <tr>\n",
       "      <td>4</td>\n",
       "      <td>xx bo s ▁ٹی ▁ -20 ▁ٹیم ▁سے ▁باہر ہونے ▁کے ▁بعد ▁دھون ی ▁کو ▁پاکستان ▁سے ▁ملی ▁حمایت ▁ xx bo s ▁لکھنؤ ▁میں ▁سلمان ▁خان ▁کی ▁فلم ▁بجرنگ ی ▁بھائی ▁جان ▁کی ▁مخالفت ، ▁پوسٹر ▁جلائے ▁گئے ▁ xx bo s ▁والد ▁کی ▁تدفین ▁چھوڑ ▁کر ▁کرکٹ ▁کے ▁میدان ▁میں ▁اترا ▁افغانستان ▁کا ▁یہ ▁اسٹار ▁کھلاڑی ▁ ، ▁ٹیم ▁کو ▁جتا ▁کر ▁پیش ▁کیا ▁خراج ▁عقیدت ▁ xx</td>\n",
       "    </tr>\n",
       "  </tbody>\n",
       "</table>"
      ],
      "text/plain": [
       "<IPython.core.display.HTML object>"
      ]
     },
     "metadata": {},
     "output_type": "display_data"
    }
   ],
   "source": [
    "data_lm.show_batch()"
   ]
  },
  {
   "cell_type": "code",
   "execution_count": 28,
   "metadata": {},
   "outputs": [],
   "source": [
    "awd_lstm_config = awd_lstm_lm_config.copy()\n",
    "awd_lstm_config['n_hid'] = 1150\n",
    "learn = language_model_learner(data_lm, arch=AWD_LSTM, drop_mult=0.3, config=awd_lstm_config, pretrained=False)"
   ]
  },
  {
   "cell_type": "code",
   "execution_count": 30,
   "metadata": {
    "scrolled": true
   },
   "outputs": [
    {
     "data": {
      "text/plain": [
       "LanguageLearner(data=TextLMDataBunch;\n",
       "\n",
       "Train: LabelList (3731 items)\n",
       "x: LMTextList\n",
       "▁ xx bo s ▁سچن ▁تین د ولکر ▁کا ▁ور اٹ ▁کو ہلی ▁کو ▁مشورہ ، ▁یہ ▁غلطی ▁کبھی ▁مت ▁کرنا ، ▁تباہ ▁ہو ▁جائے ▁گا ▁کیرئیر,▁ xx bo s ▁گریٹ ر ▁نوئیڈا ▁میں ▁ماں ▁بیٹی ▁کا ▁سفاک انہ ▁قتل ، ▁معاملہ ▁میں ▁ایف ▁آئی ▁آر ▁درج ، ▁تحقیقات ▁شروع,▁ xx bo s ▁عصمت ▁چغتائی ▁کے ▁107 ▁ویں ▁یوم ▁پیدائش ▁پر ▁گ ُ و گل ▁کا ▁ڈوڈ ل ▁کے ▁ذریعہ ▁اردو ادیب ہ ▁کو ▁خراج ▁عقیدت,▁ xx bo s ▁فلم ▁اسٹار ▁ان وپ م ▁کھیر ▁فلم ▁اینڈ ▁ٹیلی ▁ویژن ▁انسٹی ▁ٹیوٹ ▁آف ▁انڈیا ▁کے ▁چیئرمین ▁مقرر,▁ xx bo s ▁جموں ۔ ▁کشمیر : ▁9 ▁سالہ ▁بچی ▁کی ▁اجتماعی ▁عصمت ▁دری ▁کے ▁بعد ▁آنکھیں ▁نکال ▁کر ▁جسم ▁پر ▁چھڑک ا ▁تیزاب\n",
       "y: LMLabelList\n",
       ",,,,\n",
       "Path: /home/gaurav/PycharmProjects/nlp-for-urdu/classification;\n",
       "\n",
       "Valid: LabelList (933 items)\n",
       "x: LMTextList\n",
       "▁ xx bo s ▁اسٹائل ش ▁بیٹی ▁جھا ہ نو ی ▁کپور ▁کے ▁ساتھ ▁کچھ ▁اس ▁انداز ▁میں ▁نظر ▁آئیں ▁سری ▁دیوی,▁ xx bo s ▁کٹر ینہ ▁کی ف ▁نے ▁کہا ▁: ▁ دیپ کا ▁نے ▁اپنی ▁شادی ▁میں ▁مجھے ▁نہیں ▁بلایا ▁ xx re p ▁6 ▁۔,▁ xx bo s ▁نیوزی ▁لینڈ ▁کے ▁خلاف ▁تیسرے ▁فیصلہ ▁کن ▁ٹیسٹ ▁میچ ▁میں ▁محمد ▁عباس ▁کی ▁جگہ ▁کھیلے ▁گا ▁یہ ▁تیز ▁گیند ▁باز ▁ ، ▁سرفراز ▁نے ▁کیا ▁اعلان,▁ xx bo s ▁باپ ▁بنے ▁شاہد ▁ ، ▁گھر ▁آئی ▁ننھی ▁پر ی,▁ xx bo s ▁مشہور ▁فلم ▁اداکار ▁کم ل ▁ہاسن ▁سیڑھیوں ▁سے ▁گر ▁کر ▁زخمی ، ▁اسپتال ▁میں ▁داخل\n",
       "y: LMLabelList\n",
       ",,,,\n",
       "Path: /home/gaurav/PycharmProjects/nlp-for-urdu/classification;\n",
       "\n",
       "Test: None, model=SequentialRNN(\n",
       "  (0): AWD_LSTM(\n",
       "    (encoder): Embedding(30000, 400, padding_idx=1)\n",
       "    (encoder_dp): EmbeddingDropout(\n",
       "      (emb): Embedding(30000, 400, padding_idx=1)\n",
       "    )\n",
       "    (rnns): ModuleList(\n",
       "      (0): WeightDropout(\n",
       "        (module): LSTM(400, 1150, batch_first=True)\n",
       "      )\n",
       "      (1): WeightDropout(\n",
       "        (module): LSTM(1150, 1150, batch_first=True)\n",
       "      )\n",
       "      (2): WeightDropout(\n",
       "        (module): LSTM(1150, 400, batch_first=True)\n",
       "      )\n",
       "    )\n",
       "    (input_dp): RNNDropout()\n",
       "    (hidden_dps): ModuleList(\n",
       "      (0): RNNDropout()\n",
       "      (1): RNNDropout()\n",
       "      (2): RNNDropout()\n",
       "    )\n",
       "  )\n",
       "  (1): LinearDecoder(\n",
       "    (decoder): Linear(in_features=400, out_features=30000, bias=True)\n",
       "    (output_dp): RNNDropout()\n",
       "  )\n",
       "), opt_func=functools.partial(<class 'torch.optim.adam.Adam'>, betas=(0.9, 0.99)), loss_func=FlattenedLoss of CrossEntropyLoss(), metrics=[<function accuracy at 0x7f43592b04d0>], true_wd=True, bn_wd=True, wd=0.01, train_bn=True, path=PosixPath('/home/gaurav/PycharmProjects/nlp-for-urdu/classification'), model_dir='models', callback_fns=[functools.partial(<class 'fastai.basic_train.Recorder'>, add_time=True, silent=False)], callbacks=[RNNTrainer\n",
       "learn: ...\n",
       "alpha: 2.0\n",
       "beta: 1.0], layer_groups=[Sequential(\n",
       "  (0): WeightDropout(\n",
       "    (module): LSTM(400, 1150, batch_first=True)\n",
       "  )\n",
       "  (1): RNNDropout()\n",
       "), Sequential(\n",
       "  (0): WeightDropout(\n",
       "    (module): LSTM(1150, 1150, batch_first=True)\n",
       "  )\n",
       "  (1): RNNDropout()\n",
       "), Sequential(\n",
       "  (0): WeightDropout(\n",
       "    (module): LSTM(1150, 400, batch_first=True)\n",
       "  )\n",
       "  (1): RNNDropout()\n",
       "), Sequential(\n",
       "  (0): Embedding(30000, 400, padding_idx=1)\n",
       "  (1): EmbeddingDropout(\n",
       "    (emb): Embedding(30000, 400, padding_idx=1)\n",
       "  )\n",
       "  (2): LinearDecoder(\n",
       "    (decoder): Linear(in_features=400, out_features=30000, bias=True)\n",
       "    (output_dp): RNNDropout()\n",
       "  )\n",
       ")], add_time=True, silent=False, cb_fns_registered=False)"
      ]
     },
     "execution_count": 30,
     "metadata": {},
     "output_type": "execute_result"
    }
   ],
   "source": [
    "# Loading the pretrained language model on urdu wikipedia\n",
    "learn.load(path/'../language-model/UrduDataset/models/fourth-ur-lm', with_opt=True)"
   ]
  },
  {
   "cell_type": "code",
   "execution_count": 31,
   "metadata": {},
   "outputs": [],
   "source": [
    "# Fine tuning the prtrained LM on current dataset"
   ]
  },
  {
   "cell_type": "code",
   "execution_count": 32,
   "metadata": {},
   "outputs": [
    {
     "data": {
      "text/html": [],
      "text/plain": [
       "<IPython.core.display.HTML object>"
      ]
     },
     "metadata": {},
     "output_type": "display_data"
    },
    {
     "name": "stdout",
     "output_type": "stream",
     "text": [
      "LR Finder is complete, type {learner_name}.recorder.plot() to see the graph.\n"
     ]
    }
   ],
   "source": [
    "learn.lr_find()"
   ]
  },
  {
   "cell_type": "code",
   "execution_count": 33,
   "metadata": {},
   "outputs": [
    {
     "data": {
      "image/png": "[encoded data removed]",
      "text/plain": [
       "<Figure size 432x288 with 1 Axes>"
      ]
     },
     "metadata": {
      "needs_background": "light"
     },
     "output_type": "display_data"
    }
   ],
   "source": [
    "learn.recorder.plot()"
   ]
  },
  {
   "cell_type": "code",
   "execution_count": 34,
   "metadata": {},
   "outputs": [],
   "source": [
    "learn.freeze()"
   ]
  },
  {
   "cell_type": "code",
   "execution_count": 35,
   "metadata": {},
   "outputs": [
    {
     "data": {
      "text/html": [
       "<table border=\"1\" class=\"dataframe\">\n",
       "  <thead>\n",
       "    <tr style=\"text-align: left;\">\n",
       "      <th>epoch</th>\n",
       "      <th>train_loss</th>\n",
       "      <th>valid_loss</th>\n",
       "      <th>accuracy</th>\n",
       "      <th>time</th>\n",
       "    </tr>\n",
       "  </thead>\n",
       "  <tbody>\n",
       "    <tr>\n",
       "      <td>0</td>\n",
       "      <td>4.939156</td>\n",
       "      <td>4.560511</td>\n",
       "      <td>0.304866</td>\n",
       "      <td>00:07</td>\n",
       "    </tr>\n",
       "  </tbody>\n",
       "</table>"
      ],
      "text/plain": [
       "<IPython.core.display.HTML object>"
      ]
     },
     "metadata": {},
     "output_type": "display_data"
    }
   ],
   "source": [
    "learn.fit_one_cycle(1, 1e-2)"
   ]
  },
  {
   "cell_type": "code",
   "execution_count": 36,
   "metadata": {},
   "outputs": [],
   "source": [
    "learn.unfreeze()"
   ]
  },
  {
   "cell_type": "code",
   "execution_count": 37,
   "metadata": {},
   "outputs": [
    {
     "data": {
      "text/html": [
       "<table border=\"1\" class=\"dataframe\">\n",
       "  <thead>\n",
       "    <tr style=\"text-align: left;\">\n",
       "      <th>epoch</th>\n",
       "      <th>train_loss</th>\n",
       "      <th>valid_loss</th>\n",
       "      <th>accuracy</th>\n",
       "      <th>time</th>\n",
       "    </tr>\n",
       "  </thead>\n",
       "  <tbody>\n",
       "    <tr>\n",
       "      <td>0</td>\n",
       "      <td>4.215203</td>\n",
       "      <td>4.218371</td>\n",
       "      <td>0.338036</td>\n",
       "      <td>00:08</td>\n",
       "    </tr>\n",
       "    <tr>\n",
       "      <td>1</td>\n",
       "      <td>3.863969</td>\n",
       "      <td>3.962980</td>\n",
       "      <td>0.370223</td>\n",
       "      <td>00:08</td>\n",
       "    </tr>\n",
       "    <tr>\n",
       "      <td>2</td>\n",
       "      <td>3.496485</td>\n",
       "      <td>3.869346</td>\n",
       "      <td>0.383348</td>\n",
       "      <td>00:08</td>\n",
       "    </tr>\n",
       "    <tr>\n",
       "      <td>3</td>\n",
       "      <td>3.201691</td>\n",
       "      <td>3.861648</td>\n",
       "      <td>0.390268</td>\n",
       "      <td>00:08</td>\n",
       "    </tr>\n",
       "    <tr>\n",
       "      <td>4</td>\n",
       "      <td>3.026298</td>\n",
       "      <td>3.871591</td>\n",
       "      <td>0.390625</td>\n",
       "      <td>00:07</td>\n",
       "    </tr>\n",
       "  </tbody>\n",
       "</table>"
      ],
      "text/plain": [
       "<IPython.core.display.HTML object>"
      ]
     },
     "metadata": {},
     "output_type": "display_data"
    }
   ],
   "source": [
    "learn.fit_one_cycle(5, 1e-3)"
   ]
  },
  {
   "cell_type": "code",
   "execution_count": 38,
   "metadata": {},
   "outputs": [
    {
     "data": {
      "text/plain": [
       "'سرحدی علاقے میں فوجی ▁افسر ▁کا ▁قتل ، ▁پولیس ▁نے ▁بلایا ▁گولیاں ، ▁چار'"
      ]
     },
     "execution_count": 38,
     "metadata": {},
     "output_type": "execute_result"
    }
   ],
   "source": [
    "learn.predict('سرحدی علاقے میں فوجی',n_words=10)"
   ]
  },
  {
   "cell_type": "code",
   "execution_count": 39,
   "metadata": {},
   "outputs": [],
   "source": [
    "learn.save_encoder('fine_tuned_enc')"
   ]
  },
  {
   "cell_type": "code",
   "execution_count": 40,
   "metadata": {},
   "outputs": [],
   "source": [
    "data_clas = TextClasDataBunch.from_df(path=path, train_df=train_df, valid_df=valid_df, tokenizer=tokenizer, vocab=urdu_vocab, text_cols=[0], label_cols=label_cols, bs=16)"
   ]
  },
  {
   "cell_type": "code",
   "execution_count": 41,
   "metadata": {},
   "outputs": [
    {
     "data": {
      "text/html": [
       "<table border=\"1\" class=\"dataframe\">\n",
       "  <thead>\n",
       "    <tr style=\"text-align: right;\">\n",
       "      <th>text</th>\n",
       "      <th>target</th>\n",
       "    </tr>\n",
       "  </thead>\n",
       "  <tbody>\n",
       "    <tr>\n",
       "      <td>▁ xx bo s ▁اذان ▁سے ▁متعلق ▁ٹو یٹ ▁پر ▁چو طرف ہ ▁تنقید ▁کے ▁بعد ▁سو نو ▁ نگ م ▁نے ▁دی ▁صفائی ▁ ، ▁کسی ▁کو ▁لگتا ▁ہے ▁کہ ▁پیغمبر ▁اسلام ▁کی ▁تنقید ▁کی ▁ ، ▁تو ▁میں ▁معافی ▁چاہتا ▁ہوں</td>\n",
       "      <td>entertainment</td>\n",
       "    </tr>\n",
       "    <tr>\n",
       "      <td>▁ xx bo s ▁ٹیم ▁انڈیا ▁کے ▁چیف ▁سل یکٹر ▁نے ▁کہا ▁: ▁اس ▁وجہ ▁سے ▁ریش بھ ▁پن ت ▁پر ▁دن یش ▁ کارتک ▁کو ▁دی ▁ترجیح ▁ ، ▁ورلڈ ▁کپ ▁اس کو اڈ ▁میں ▁ملی ▁جگہ</td>\n",
       "      <td>cricket</td>\n",
       "    </tr>\n",
       "    <tr>\n",
       "      <td>▁ xx bo s ▁ xx re p ▁6 ▁ . ▁جب ▁گر ل ▁فری نڈ ▁کے ▁گھر ▁ رومانس ▁کرنے ▁پہنچے ▁تھے ▁سلمان ، ▁لیکن ▁بیچ ▁میں ▁ہی ▁آگئے ▁تھے ▁گھر والے ▁پھر ▁جو ▁کچھ ▁ہوا ▁وہ</td>\n",
       "      <td>entertainment</td>\n",
       "    </tr>\n",
       "    <tr>\n",
       "      <td>▁ xx bo s ▁جس پر یت ▁بم راہ ▁نے ▁پھینک ی ▁2018 ▁کی ▁سب ▁سے ▁\" حی رت ▁انگیز \" ▁گیند ▁ ، ▁آسٹریلیا ئی ▁ بلے ▁باز ▁کو ▁کچھ ▁نہیں ▁آیا ▁سمجھ ▁ ! ۔</td>\n",
       "      <td>cricket</td>\n",
       "    </tr>\n",
       "    <tr>\n",
       "      <td>▁ xx bo s ▁اب ▁تن و شری ▁– ▁نانا ▁تنازع ▁میں ▁کو د ▁پڑی ▁راج ▁ٹھاکر ے ▁کی ▁ایم ▁این ▁ایس ▁ ، ▁بگ ▁باس ▁سیٹ ▁توڑنے ▁کی ▁دی ▁دھمکی ▁ ، ▁جانیں ▁وجہ ▁ ؟</td>\n",
       "      <td>entertainment</td>\n",
       "    </tr>\n",
       "  </tbody>\n",
       "</table>"
      ],
      "text/plain": [
       "<IPython.core.display.HTML object>"
      ]
     },
     "metadata": {},
     "output_type": "display_data"
    }
   ],
   "source": [
    "data_clas.show_batch()"
   ]
  },
  {
   "cell_type": "code",
   "execution_count": 42,
   "metadata": {},
   "outputs": [],
   "source": [
    "del awd_lstm_config['tie_weights']\n",
    "del awd_lstm_config['out_bias']"
   ]
  },
  {
   "cell_type": "code",
   "execution_count": 43,
   "metadata": {},
   "outputs": [],
   "source": [
    "learn = text_classifier_learner(data_clas, arch=AWD_LSTM, drop_mult=0.5, config=awd_lstm_config)"
   ]
  },
  {
   "cell_type": "code",
   "execution_count": 44,
   "metadata": {
    "scrolled": true
   },
   "outputs": [
    {
     "data": {
      "text/plain": [
       "RNNLearner(data=TextClasDataBunch;\n",
       "\n",
       "Train: LabelList (3731 items)\n",
       "x: TextList\n",
       "▁ xx bo s ▁سچن ▁تین د ولکر ▁کا ▁ور اٹ ▁کو ہلی ▁کو ▁مشورہ ، ▁یہ ▁غلطی ▁کبھی ▁مت ▁کرنا ، ▁تباہ ▁ہو ▁جائے ▁گا ▁کیرئیر,▁ xx bo s ▁گریٹ ر ▁نوئیڈا ▁میں ▁ماں ▁بیٹی ▁کا ▁سفاک انہ ▁قتل ، ▁معاملہ ▁میں ▁ایف ▁آئی ▁آر ▁درج ، ▁تحقیقات ▁شروع,▁ xx bo s ▁عصمت ▁چغتائی ▁کے ▁107 ▁ویں ▁یوم ▁پیدائش ▁پر ▁گ ُ و گل ▁کا ▁ڈوڈ ل ▁کے ▁ذریعہ ▁اردو ادیب ہ ▁کو ▁خراج ▁عقیدت,▁ xx bo s ▁فلم ▁اسٹار ▁ان وپ م ▁کھیر ▁فلم ▁اینڈ ▁ٹیلی ▁ویژن ▁انسٹی ▁ٹیوٹ ▁آف ▁انڈیا ▁کے ▁چیئرمین ▁مقرر,▁ xx bo s ▁جموں ۔ ▁کشمیر : ▁9 ▁سالہ ▁بچی ▁کی ▁اجتماعی ▁عصمت ▁دری ▁کے ▁بعد ▁آنکھیں ▁نکال ▁کر ▁جسم ▁پر ▁چھڑک ا ▁تیزاب\n",
       "y: CategoryList\n",
       "cricket,crime,entertainment,entertainment,crime\n",
       "Path: /home/gaurav/PycharmProjects/nlp-for-urdu/classification;\n",
       "\n",
       "Valid: LabelList (933 items)\n",
       "x: TextList\n",
       "▁ xx bo s ▁اسٹائل ش ▁بیٹی ▁جھا ہ نو ی ▁کپور ▁کے ▁ساتھ ▁کچھ ▁اس ▁انداز ▁میں ▁نظر ▁آئیں ▁سری ▁دیوی,▁ xx bo s ▁کٹر ینہ ▁کی ف ▁نے ▁کہا ▁: ▁ دیپ کا ▁نے ▁اپنی ▁شادی ▁میں ▁مجھے ▁نہیں ▁بلایا ▁ xx re p ▁6 ▁۔,▁ xx bo s ▁نیوزی ▁لینڈ ▁کے ▁خلاف ▁تیسرے ▁فیصلہ ▁کن ▁ٹیسٹ ▁میچ ▁میں ▁محمد ▁عباس ▁کی ▁جگہ ▁کھیلے ▁گا ▁یہ ▁تیز ▁گیند ▁باز ▁ ، ▁سرفراز ▁نے ▁کیا ▁اعلان,▁ xx bo s ▁باپ ▁بنے ▁شاہد ▁ ، ▁گھر ▁آئی ▁ننھی ▁پر ی,▁ xx bo s ▁مشہور ▁فلم ▁اداکار ▁کم ل ▁ہاسن ▁سیڑھیوں ▁سے ▁گر ▁کر ▁زخمی ، ▁اسپتال ▁میں ▁داخل\n",
       "y: CategoryList\n",
       "entertainment,entertainment,cricket,entertainment,entertainment\n",
       "Path: /home/gaurav/PycharmProjects/nlp-for-urdu/classification;\n",
       "\n",
       "Test: None, model=SequentialRNN(\n",
       "  (0): MultiBatchEncoder(\n",
       "    (module): AWD_LSTM(\n",
       "      (encoder): Embedding(30000, 400, padding_idx=1)\n",
       "      (encoder_dp): EmbeddingDropout(\n",
       "        (emb): Embedding(30000, 400, padding_idx=1)\n",
       "      )\n",
       "      (rnns): ModuleList(\n",
       "        (0): WeightDropout(\n",
       "          (module): LSTM(400, 1150, batch_first=True)\n",
       "        )\n",
       "        (1): WeightDropout(\n",
       "          (module): LSTM(1150, 1150, batch_first=True)\n",
       "        )\n",
       "        (2): WeightDropout(\n",
       "          (module): LSTM(1150, 400, batch_first=True)\n",
       "        )\n",
       "      )\n",
       "      (input_dp): RNNDropout()\n",
       "      (hidden_dps): ModuleList(\n",
       "        (0): RNNDropout()\n",
       "        (1): RNNDropout()\n",
       "        (2): RNNDropout()\n",
       "      )\n",
       "    )\n",
       "  )\n",
       "  (1): PoolingLinearClassifier(\n",
       "    (layers): Sequential(\n",
       "      (0): BatchNorm1d(1200, eps=1e-05, momentum=0.1, affine=True, track_running_stats=True)\n",
       "      (1): Dropout(p=0.05)\n",
       "      (2): Linear(in_features=1200, out_features=50, bias=True)\n",
       "      (3): ReLU(inplace)\n",
       "      (4): BatchNorm1d(50, eps=1e-05, momentum=0.1, affine=True, track_running_stats=True)\n",
       "      (5): Dropout(p=0.1)\n",
       "      (6): Linear(in_features=50, out_features=3, bias=True)\n",
       "    )\n",
       "  )\n",
       "), opt_func=functools.partial(<class 'torch.optim.adam.Adam'>, betas=(0.9, 0.99)), loss_func=FlattenedLoss of CrossEntropyLoss(), metrics=[<function accuracy at 0x7f43592b04d0>], true_wd=True, bn_wd=True, wd=0.01, train_bn=True, path=PosixPath('/home/gaurav/PycharmProjects/nlp-for-urdu/classification'), model_dir='models', callback_fns=[functools.partial(<class 'fastai.basic_train.Recorder'>, add_time=True, silent=False)], callbacks=[RNNTrainer\n",
       "learn: ...\n",
       "alpha: 2.0\n",
       "beta: 1.0], layer_groups=[Sequential(\n",
       "  (0): Embedding(30000, 400, padding_idx=1)\n",
       "  (1): EmbeddingDropout(\n",
       "    (emb): Embedding(30000, 400, padding_idx=1)\n",
       "  )\n",
       "), Sequential(\n",
       "  (0): WeightDropout(\n",
       "    (module): LSTM(400, 1150, batch_first=True)\n",
       "  )\n",
       "  (1): RNNDropout()\n",
       "), Sequential(\n",
       "  (0): WeightDropout(\n",
       "    (module): LSTM(1150, 1150, batch_first=True)\n",
       "  )\n",
       "  (1): RNNDropout()\n",
       "), Sequential(\n",
       "  (0): WeightDropout(\n",
       "    (module): LSTM(1150, 400, batch_first=True)\n",
       "  )\n",
       "  (1): RNNDropout()\n",
       "), Sequential(\n",
       "  (0): PoolingLinearClassifier(\n",
       "    (layers): Sequential(\n",
       "      (0): BatchNorm1d(1200, eps=1e-05, momentum=0.1, affine=True, track_running_stats=True)\n",
       "      (1): Dropout(p=0.05)\n",
       "      (2): Linear(in_features=1200, out_features=50, bias=True)\n",
       "      (3): ReLU(inplace)\n",
       "      (4): BatchNorm1d(50, eps=1e-05, momentum=0.1, affine=True, track_running_stats=True)\n",
       "      (5): Dropout(p=0.1)\n",
       "      (6): Linear(in_features=50, out_features=3, bias=True)\n",
       "    )\n",
       "  )\n",
       ")], add_time=True, silent=False, cb_fns_registered=False)"
      ]
     },
     "execution_count": 44,
     "metadata": {},
     "output_type": "execute_result"
    }
   ],
   "source": [
    "learn.load_encoder('fine_tuned_enc')"
   ]
  },
  {
   "cell_type": "code",
   "execution_count": 45,
   "metadata": {},
   "outputs": [],
   "source": [
    "learn.freeze()"
   ]
  },
  {
   "cell_type": "code",
   "execution_count": 46,
   "metadata": {},
   "outputs": [
    {
     "data": {
      "text/html": [],
      "text/plain": [
       "<IPython.core.display.HTML object>"
      ]
     },
     "metadata": {},
     "output_type": "display_data"
    },
    {
     "name": "stdout",
     "output_type": "stream",
     "text": [
      "LR Finder is complete, type {learner_name}.recorder.plot() to see the graph.\n"
     ]
    }
   ],
   "source": [
    "learn.lr_find()"
   ]
  },
  {
   "cell_type": "code",
   "execution_count": 47,
   "metadata": {},
   "outputs": [
    {
     "data": {
      "image/png": "[encoded data removed]",
      "text/plain": [
       "<Figure size 432x288 with 1 Axes>"
      ]
     },
     "metadata": {
      "needs_background": "light"
     },
     "output_type": "display_data"
    }
   ],
   "source": [
    "learn.recorder.plot()"
   ]
  },
  {
   "cell_type": "code",
   "execution_count": 48,
   "metadata": {},
   "outputs": [
    {
     "data": {
      "text/plain": [
       "CrossEntropyLoss()"
      ]
     },
     "execution_count": 48,
     "metadata": {},
     "output_type": "execute_result"
    }
   ],
   "source": [
    "learn.loss_func.func"
   ]
  },
  {
   "cell_type": "code",
   "execution_count": 49,
   "metadata": {},
   "outputs": [],
   "source": [
    "kappa = KappaScore()"
   ]
  },
  {
   "cell_type": "code",
   "execution_count": 50,
   "metadata": {},
   "outputs": [],
   "source": [
    "learn.metrics = [kappa, accuracy]"
   ]
  },
  {
   "cell_type": "code",
   "execution_count": 51,
   "metadata": {},
   "outputs": [
    {
     "data": {
      "text/html": [
       "<table border=\"1\" class=\"dataframe\">\n",
       "  <thead>\n",
       "    <tr style=\"text-align: left;\">\n",
       "      <th>epoch</th>\n",
       "      <th>train_loss</th>\n",
       "      <th>valid_loss</th>\n",
       "      <th>kappa_score</th>\n",
       "      <th>accuracy</th>\n",
       "      <th>time</th>\n",
       "    </tr>\n",
       "  </thead>\n",
       "  <tbody>\n",
       "    <tr>\n",
       "      <td>0</td>\n",
       "      <td>0.399098</td>\n",
       "      <td>0.261340</td>\n",
       "      <td>0.831009</td>\n",
       "      <td>0.906752</td>\n",
       "      <td>00:05</td>\n",
       "    </tr>\n",
       "  </tbody>\n",
       "</table>"
      ],
      "text/plain": [
       "<IPython.core.display.HTML object>"
      ]
     },
     "metadata": {},
     "output_type": "display_data"
    }
   ],
   "source": [
    "learn.fit_one_cycle(1, 1e-2)"
   ]
  },
  {
   "cell_type": "code",
   "execution_count": 52,
   "metadata": {},
   "outputs": [
    {
     "data": {
      "text/html": [
       "<table border=\"1\" class=\"dataframe\">\n",
       "  <thead>\n",
       "    <tr style=\"text-align: left;\">\n",
       "      <th>epoch</th>\n",
       "      <th>train_loss</th>\n",
       "      <th>valid_loss</th>\n",
       "      <th>kappa_score</th>\n",
       "      <th>accuracy</th>\n",
       "      <th>time</th>\n",
       "    </tr>\n",
       "  </thead>\n",
       "  <tbody>\n",
       "    <tr>\n",
       "      <td>0</td>\n",
       "      <td>0.314623</td>\n",
       "      <td>0.227834</td>\n",
       "      <td>0.861681</td>\n",
       "      <td>0.923901</td>\n",
       "      <td>00:05</td>\n",
       "    </tr>\n",
       "  </tbody>\n",
       "</table>"
      ],
      "text/plain": [
       "<IPython.core.display.HTML object>"
      ]
     },
     "metadata": {},
     "output_type": "display_data"
    }
   ],
   "source": [
    "learn.freeze_to(-2)\n",
    "learn.fit_one_cycle(1, 1e-2)"
   ]
  },
  {
   "cell_type": "code",
   "execution_count": 53,
   "metadata": {},
   "outputs": [
    {
     "data": {
      "text/html": [
       "<table border=\"1\" class=\"dataframe\">\n",
       "  <thead>\n",
       "    <tr style=\"text-align: left;\">\n",
       "      <th>epoch</th>\n",
       "      <th>train_loss</th>\n",
       "      <th>valid_loss</th>\n",
       "      <th>kappa_score</th>\n",
       "      <th>accuracy</th>\n",
       "      <th>time</th>\n",
       "    </tr>\n",
       "  </thead>\n",
       "  <tbody>\n",
       "    <tr>\n",
       "      <td>0</td>\n",
       "      <td>0.230087</td>\n",
       "      <td>0.207639</td>\n",
       "      <td>0.873792</td>\n",
       "      <td>0.930332</td>\n",
       "      <td>00:09</td>\n",
       "    </tr>\n",
       "    <tr>\n",
       "      <td>1</td>\n",
       "      <td>0.166221</td>\n",
       "      <td>0.178276</td>\n",
       "      <td>0.896265</td>\n",
       "      <td>0.942122</td>\n",
       "      <td>00:09</td>\n",
       "    </tr>\n",
       "    <tr>\n",
       "      <td>2</td>\n",
       "      <td>0.121720</td>\n",
       "      <td>0.193029</td>\n",
       "      <td>0.901641</td>\n",
       "      <td>0.945338</td>\n",
       "      <td>00:09</td>\n",
       "    </tr>\n",
       "    <tr>\n",
       "      <td>3</td>\n",
       "      <td>0.082160</td>\n",
       "      <td>0.178220</td>\n",
       "      <td>0.915816</td>\n",
       "      <td>0.952840</td>\n",
       "      <td>00:09</td>\n",
       "    </tr>\n",
       "    <tr>\n",
       "      <td>4</td>\n",
       "      <td>0.062471</td>\n",
       "      <td>0.183512</td>\n",
       "      <td>0.901693</td>\n",
       "      <td>0.945338</td>\n",
       "      <td>00:09</td>\n",
       "    </tr>\n",
       "  </tbody>\n",
       "</table>"
      ],
      "text/plain": [
       "<IPython.core.display.HTML object>"
      ]
     },
     "metadata": {},
     "output_type": "display_data"
    },
    {
     "name": "stdout",
     "output_type": "stream",
     "text": [
      "Better model found at epoch 0 with accuracy value: 0.9303322434425354.\n",
      "Better model found at epoch 1 with accuracy value: 0.9421221613883972.\n",
      "Better model found at epoch 2 with accuracy value: 0.9453375935554504.\n",
      "Better model found at epoch 3 with accuracy value: 0.9528403282165527.\n"
     ]
    }
   ],
   "source": [
    "learn.unfreeze()\n",
    "learn.fit_one_cycle(5, 1e-3, callbacks=[callbacks.SaveModelCallback(learn, every='improvement', monitor='accuracy', name='final')])"
   ]
  },
  {
   "cell_type": "code",
   "execution_count": 54,
   "metadata": {},
   "outputs": [
    {
     "data": {
      "text/plain": [
       "(Category crime, tensor(1), tensor([0.2206, 0.4028, 0.3766]))"
      ]
     },
     "execution_count": 54,
     "metadata": {},
     "output_type": "execute_result"
    }
   ],
   "source": [
    "learn.predict('شاکنگ ایکسپریس وے میں خواتین کوچा')"
   ]
  },
  {
   "cell_type": "code",
   "execution_count": 55,
   "metadata": {},
   "outputs": [
    {
     "data": {
      "text/plain": [
       "(Category crime, tensor(1), tensor([0.0082, 0.9809, 0.0110]))"
      ]
     },
     "execution_count": 55,
     "metadata": {},
     "output_type": "execute_result"
    }
   ],
   "source": [
    "learn.predict(\"ایک موٹی بریک پر انسان کو چوروں میں موٹر سائیکل کھو دیتا ہے\")"
   ]
  },
  {
   "cell_type": "code",
   "execution_count": 56,
   "metadata": {},
   "outputs": [
    {
     "data": {
      "text/plain": [
       "(Category entertainment, tensor(2), tensor([0.0026, 0.0042, 0.9933]))"
      ]
     },
     "execution_count": 56,
     "metadata": {},
     "output_type": "execute_result"
    }
   ],
   "source": [
    "learn.predict(\"کیا سلمان نے اپنا اپنا چینل بنایا؟\")"
   ]
  },
  {
   "cell_type": "code",
   "execution_count": 57,
   "metadata": {},
   "outputs": [
    {
     "data": {
      "text/plain": [
       "(Category cricket, tensor(0), tensor([0.9588, 0.0012, 0.0400]))"
      ]
     },
     "execution_count": 57,
     "metadata": {},
     "output_type": "execute_result"
    }
   ],
   "source": [
    "learn.predict(\"ڈھاما کیڈر! یہ ٹیم بھارت کے لئے بہترین کارکردگی ہےी\")"
   ]
  },
  {
   "cell_type": "code",
   "execution_count": null,
   "metadata": {},
   "outputs": [],
   "source": []
  }
 ],
 "metadata": {
  "kernelspec": {
   "display_name": "Python 3",
   "language": "python",
   "name": "python3"
  },
  "language_info": {
   "codemirror_mode": {
    "name": "ipython",
    "version": 3
   },
   "file_extension": ".py",
   "mimetype": "text/x-python",
   "name": "python",
   "nbconvert_exporter": "python",
   "pygments_lexer": "ipython3",
   "version": "3.7.4"
  }
 },
 "nbformat": 4,
 "nbformat_minor": 2
}
