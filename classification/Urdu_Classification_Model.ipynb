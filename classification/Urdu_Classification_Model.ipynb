{
 "cells": [
  {
   "cell_type": "code",
   "execution_count": 1,
   "metadata": {},
   "outputs": [],
   "source": [
    "from fastai.text import *\n",
    "import numpy as np\n",
    "from sklearn.model_selection import train_test_split\n",
    "import pickle\n",
    "import sentencepiece as spm\n",
    "import re\n",
    "import pdb"
   ]
  },
  {
   "cell_type": "code",
   "execution_count": 2,
   "metadata": {},
   "outputs": [
    {
     "data": {
      "text/plain": [
       "('1.0.40', '1.0.1.post2')"
      ]
     },
     "execution_count": 2,
     "metadata": {},
     "output_type": "execute_result"
    }
   ],
   "source": [
    "import fastai, torch\n",
    "fastai.__version__ , torch.__version__"
   ]
  },
  {
   "cell_type": "code",
   "execution_count": 3,
   "metadata": {},
   "outputs": [],
   "source": [
    "torch.cuda.set_device(0)"
   ]
  },
  {
   "cell_type": "code",
   "execution_count": 4,
   "metadata": {},
   "outputs": [
    {
     "name": "stdout",
     "output_type": "stream",
     "text": [
      "/home/jupyter/urdu/classification\r\n"
     ]
    }
   ],
   "source": [
    "!pwd"
   ]
  },
  {
   "cell_type": "code",
   "execution_count": 5,
   "metadata": {},
   "outputs": [],
   "source": [
    "path = Path('/home/jupyter/urdu/classification')"
   ]
  },
  {
   "cell_type": "code",
   "execution_count": 6,
   "metadata": {},
   "outputs": [
    {
     "name": "stdout",
     "output_type": "stream",
     "text": [
      "Urdu_Classification_Data_News_Headlines.csv  Urdu_Classification_Model.ipynb\r\n"
     ]
    }
   ],
   "source": [
    "!ls"
   ]
  },
  {
   "cell_type": "code",
   "execution_count": 7,
   "metadata": {},
   "outputs": [
    {
     "data": {
      "text/html": [
       "<div>\n",
       "<style scoped>\n",
       "    .dataframe tbody tr th:only-of-type {\n",
       "        vertical-align: middle;\n",
       "    }\n",
       "\n",
       "    .dataframe tbody tr th {\n",
       "        vertical-align: top;\n",
       "    }\n",
       "\n",
       "    .dataframe thead th {\n",
       "        text-align: right;\n",
       "    }\n",
       "</style>\n",
       "<table border=\"1\" class=\"dataframe\">\n",
       "  <thead>\n",
       "    <tr style=\"text-align: right;\">\n",
       "      <th></th>\n",
       "      <th>headline</th>\n",
       "      <th>label</th>\n",
       "    </tr>\n",
       "  </thead>\n",
       "  <tbody>\n",
       "    <tr>\n",
       "      <th>4659</th>\n",
       "      <td>ٹینس اسٹارثانیہ مرزا ماں بن گئیں، شعیب ملک کے ...</td>\n",
       "      <td>entertainment</td>\n",
       "    </tr>\n",
       "    <tr>\n",
       "      <th>4660</th>\n",
       "      <td>شادی کے لئے میں سلمان خان کو منا سکتا ہوں: عام...</td>\n",
       "      <td>entertainment</td>\n",
       "    </tr>\n",
       "    <tr>\n",
       "      <th>4661</th>\n",
       "      <td>سوشل میڈیا یوزرس کو نہیں ہضم ہوا پرینکا ۔ نک ک...</td>\n",
       "      <td>entertainment</td>\n",
       "    </tr>\n",
       "    <tr>\n",
       "      <th>4662</th>\n",
       "      <td>می ٹو مہم پر شاہ رخ خان کی خاموشی پر لوگوں نے ...</td>\n",
       "      <td>entertainment</td>\n",
       "    </tr>\n",
       "    <tr>\n",
       "      <th>4663</th>\n",
       "      <td>جیمز بانڈ اور ایتھن ہنٹ کو ایک ہی فلم میں دیکھ...</td>\n",
       "      <td>entertainment</td>\n",
       "    </tr>\n",
       "  </tbody>\n",
       "</table>\n",
       "</div>"
      ],
      "text/plain": [
       "                                               headline          label\n",
       "4659  ٹینس اسٹارثانیہ مرزا ماں بن گئیں، شعیب ملک کے ...  entertainment\n",
       "4660  شادی کے لئے میں سلمان خان کو منا سکتا ہوں: عام...  entertainment\n",
       "4661  سوشل میڈیا یوزرس کو نہیں ہضم ہوا پرینکا ۔ نک ک...  entertainment\n",
       "4662  می ٹو مہم پر شاہ رخ خان کی خاموشی پر لوگوں نے ...  entertainment\n",
       "4663  جیمز بانڈ اور ایتھن ہنٹ کو ایک ہی فلم میں دیکھ...  entertainment"
      ]
     },
     "execution_count": 7,
     "metadata": {},
     "output_type": "execute_result"
    }
   ],
   "source": [
    "df = pd.read_csv(path/'Urdu_Classification_Data_News_Headlines.csv')\n",
    "df.tail()"
   ]
  },
  {
   "cell_type": "code",
   "execution_count": 8,
   "metadata": {},
   "outputs": [
    {
     "data": {
      "text/plain": [
       "array(['crime', 'cricket', 'entertainment'], dtype=object)"
      ]
     },
     "execution_count": 8,
     "metadata": {},
     "output_type": "execute_result"
    }
   ],
   "source": [
    "df['label'].unique()"
   ]
  },
  {
   "cell_type": "code",
   "execution_count": 9,
   "metadata": {},
   "outputs": [
    {
     "name": "stdout",
     "output_type": "stream",
     "text": [
      "Entertainment 2646\n",
      "Sports 560\n",
      "State 1458\n"
     ]
    }
   ],
   "source": [
    "print('Entertainment', (df['label'] == 'entertainment').sum())\n",
    "print('Sports', (df['label'] == 'crime').sum())\n",
    "print('State', (df['label'] == 'cricket').sum())"
   ]
  },
  {
   "cell_type": "code",
   "execution_count": 10,
   "metadata": {},
   "outputs": [
    {
     "data": {
      "text/plain": [
       "'نہاتی ہوئی خاتون کا ویڈیو بنا رہا تھا آئی آئی ٹی طالب علم ، موبائل میں ملے کئی فحش کلپ'"
      ]
     },
     "execution_count": 10,
     "metadata": {},
     "output_type": "execute_result"
    }
   ],
   "source": [
    "df['headline'][0]"
   ]
  },
  {
   "cell_type": "code",
   "execution_count": 11,
   "metadata": {},
   "outputs": [
    {
     "data": {
      "text/plain": [
       "(4664, 2)"
      ]
     },
     "execution_count": 11,
     "metadata": {},
     "output_type": "execute_result"
    }
   ],
   "source": [
    "df.shape"
   ]
  },
  {
   "cell_type": "code",
   "execution_count": 12,
   "metadata": {},
   "outputs": [
    {
     "data": {
      "text/plain": [
       "(0, 2)"
      ]
     },
     "execution_count": 12,
     "metadata": {},
     "output_type": "execute_result"
    }
   ],
   "source": [
    "df[df['headline'].isnull()].shape"
   ]
  },
  {
   "cell_type": "code",
   "execution_count": 13,
   "metadata": {},
   "outputs": [],
   "source": [
    "label_cols = list(range(1,df.shape[1]))"
   ]
  },
  {
   "cell_type": "code",
   "execution_count": 14,
   "metadata": {},
   "outputs": [
    {
     "name": "stdout",
     "output_type": "stream",
     "text": [
      "[1]\n"
     ]
    }
   ],
   "source": [
    "print(label_cols)"
   ]
  },
  {
   "cell_type": "code",
   "execution_count": 15,
   "metadata": {},
   "outputs": [],
   "source": [
    "id_to_col = list(df.columns)"
   ]
  },
  {
   "cell_type": "code",
   "execution_count": 16,
   "metadata": {},
   "outputs": [],
   "source": [
    "col_to_id = {}\n",
    "for i, col in enumerate(id_to_col):\n",
    "    col_to_id[col] = i"
   ]
  },
  {
   "cell_type": "code",
   "execution_count": 17,
   "metadata": {},
   "outputs": [],
   "source": [
    "class UrduTokenizer(BaseTokenizer):\n",
    "    def __init__(self, lang:str):\n",
    "        self.lang = lang\n",
    "        self.sp = spm.SentencePieceProcessor()\n",
    "        self.sp.Load(str(path/\"../urdu_lm.model\"))\n",
    "        \n",
    "    def tokenizer(self, t:str) -> List[str]:\n",
    "        return self.sp.EncodeAsPieces(t)"
   ]
  },
  {
   "cell_type": "code",
   "execution_count": 18,
   "metadata": {},
   "outputs": [],
   "source": [
    "sp = spm.SentencePieceProcessor()\n",
    "sp.Load(str(path/\"../urdu_lm.model\"))\n",
    "itos = [sp.IdToPiece(int(i)) for i in range(30000)]"
   ]
  },
  {
   "cell_type": "code",
   "execution_count": 19,
   "metadata": {},
   "outputs": [],
   "source": [
    "# 30,000 is the vocab size that we chose in sentencepiece\n",
    "urdu_vocab = Vocab(itos)"
   ]
  },
  {
   "cell_type": "code",
   "execution_count": 20,
   "metadata": {},
   "outputs": [],
   "source": [
    "tokenizer = Tokenizer(tok_func=UrduTokenizer, lang='ur')"
   ]
  },
  {
   "cell_type": "code",
   "execution_count": 21,
   "metadata": {},
   "outputs": [
    {
     "data": {
      "text/plain": [
       "['xxunk', 'xxpad', 'xxbos', 'xxfld', 'xxmaj', 'xxup', 'xxrep', 'xxwrep']"
      ]
     },
     "execution_count": 21,
     "metadata": {},
     "output_type": "execute_result"
    }
   ],
   "source": [
    "tokenizer.special_cases"
   ]
  },
  {
   "cell_type": "code",
   "execution_count": 22,
   "metadata": {},
   "outputs": [],
   "source": [
    "data_lm = TextDataBunch.from_csv(path=path, csv_name='Urdu_Classification_Data_News_Headlines.csv', text_cols=[0], label_cols=label_cols, tokenizer=tokenizer, vocab=urdu_vocab)"
   ]
  },
  {
   "cell_type": "code",
   "execution_count": 23,
   "metadata": {},
   "outputs": [],
   "source": [
    "data_lm.save()"
   ]
  },
  {
   "cell_type": "code",
   "execution_count": 24,
   "metadata": {},
   "outputs": [],
   "source": [
    "bs=48"
   ]
  },
  {
   "cell_type": "code",
   "execution_count": 25,
   "metadata": {},
   "outputs": [],
   "source": [
    "data_lm = TextLMDataBunch.load(path, 'tmp', bs=bs)"
   ]
  },
  {
   "cell_type": "code",
   "execution_count": 26,
   "metadata": {},
   "outputs": [
    {
     "data": {
      "text/html": [
       "<table>  <col width='5%'>  <col width='95%'>  <tr>\n",
       "    <th>idx</th>\n",
       "    <th>text</th>\n",
       "  </tr>\n",
       "  <tr>\n",
       "    <th>0</th>\n",
       "    <th>▁ xx bo s ▁عمران ▁خان ▁کی ▁حلف ▁برداری ▁تقریب ▁میں ▁شریک ▁نہیں ▁ہوں ▁گے ▁عامر ▁خان ، ▁جانیں ▁کیا ▁ہے ▁وجہ ▁ xx bo s ▁بالی ▁ووڈ ▁اداکار ▁فاروق ▁شیخ ▁کو ▁سالگرہ ▁پر ▁گوگل ▁نے ▁ڈوڈ ل ▁بنا ▁کر ▁منفرد ▁انداز ▁میں ▁پیش ▁کیا ▁خراج ▁عقیدت ▁ xx bo s ▁سن چور ین ▁میں ▁دو کپ تان وں ▁کا ▁ایک ▁انوکھا ▁ریکارڈ ، ▁ٹیسٹ ▁کرکٹ ▁کی ▁تاریخ ▁میں ▁پہلی</th>\n",
       "  </tr>\n",
       "  <tr>\n",
       "    <th>1</th>\n",
       "    <th>▁نہیں ▁ہوگی ▁سلمان ▁خان ▁کی ▁فلم ▁ xx bo s ▁بال ▁بال ▁بچ ▁گئے ▁نمبر ▁ایک ▁گیند ▁باز ▁جس پر یت ▁بم راہ ▁ ، ▁ورلڈ ▁کپ ▁سے ▁پہلے ▁ختم ▁ہوجاتا ▁کرکٹ ▁کیریئر ▁ ! ▁۔ ▁ xx bo s ▁ملائی کہ ▁ار وڑہ ▁اور ▁ارجن ▁کپور ▁کے ▁رشتے ▁پر ▁ان ل ▁کپور ▁نے ▁توڑ ی ▁خاموشی ▁ ، ▁دیا ▁یہ ▁بڑا ▁بیان ▁ xx bo s ▁مہندر سنگھ ▁دھون</th>\n",
       "  </tr>\n",
       "  <tr>\n",
       "    <th>2</th>\n",
       "    <th>s ▁اسپتال ▁میں ▁کر اہت ے ▁ہوئے ▁راکھ ی ▁ساون ت ▁نے ▁\" ▁دی ▁گریٹ ▁کھلی ▁\" ▁سے ▁مانگی ▁مدد ▁ ، ▁کہا ▁: ▁خاتون ▁ریس لر ▁کو ▁پٹ وا و ▁ xx bo s ▁ٹی -20 ▁سے ▁کی وں ▁ہوئی ▁مہندر ▁سنگھ ▁دھون ی ▁کی ▁’ چھ ٹی ‘ ؟ ▁ xx bo s ▁جنوبی ▁افریقہ ▁میں ▁پاکستان ▁کی ▁شکست ▁سے ▁پریشان ▁ہیڈ ▁کوچ ▁مکی ▁آرتھر ▁نے ▁اب ▁پچ</th>\n",
       "  </tr>\n",
       "  <tr>\n",
       "    <th>3</th>\n",
       "    <th>▁ ! با ہو بلی ▁کو ▁ایک ▁بڑی ▁غلطی ▁نے ▁کرایا ▁ہٹ ؟ ▁یہ ▁غلطی ▁نہ ▁ہوتی ▁تو ▁کیا ▁کہانی ▁کا ▁پلاٹ ▁کچھ ▁اور ▁ہی ▁ہوتا ▁ xx bo s ▁ٹی ▁وی ▁کی ▁سب ▁سے ▁زیادہ ▁مقبول ▁بہو ▁سا کشی ▁ت نور ▁کس ▁طرح ▁بنیں ▁دن گل ▁میں ▁عامر ▁کی ▁بیوی ▁ xx bo s ▁پاکستان ▁کے ▁اس ▁تیز ▁گیند ▁باز ▁نے ▁کیا ▁کمال ▁ ، ▁وقار ▁یونس ▁کی ▁کرلی</th>\n",
       "  </tr>\n",
       "  <tr>\n",
       "    <th>4</th>\n",
       "    <th>▁عصمت ▁دری ، ▁لڑکی ▁نے ▁زہر ▁کھا ▁کر ▁دی ▁جان ▁ xx bo s ▁بیرون ▁ممالک ▁میں ▁بج تا ▁ہے ▁بالی ▁ووڈ ▁کے ▁ان ▁ستاروں ▁کا ▁ڈنک ا ▁ xx bo s ▁آئی ▁پی ▁ایل ▁2018 ▁ممبئی ▁ب قابل ہ ▁چن ئی : رو ہ ت ▁کی ▁طوفان ی ▁نصف ▁سنچری ▁سے ▁جیتی ▁ممبئی ، چن ئی ▁کو ▁8 ▁وکٹ ▁سے ▁شکست ▁ xx bo s ▁اب ▁نانا ▁پاٹ ی</th>\n",
       "  </tr>\n",
       "</table>\n"
      ],
      "text/plain": [
       "<IPython.core.display.HTML object>"
      ]
     },
     "metadata": {},
     "output_type": "display_data"
    }
   ],
   "source": [
    "data_lm.show_batch()"
   ]
  },
  {
   "cell_type": "code",
   "execution_count": 27,
   "metadata": {},
   "outputs": [],
   "source": [
    "learn = language_model_learner(data_lm, drop_mult=0.3)"
   ]
  },
  {
   "cell_type": "code",
   "execution_count": 28,
   "metadata": {},
   "outputs": [
    {
     "data": {
      "text/plain": [
       "LanguageLearner(data=TextLMDataBunch;\n",
       "\n",
       "Train: LabelList\n",
       "y: LMLabel (3731 items)\n",
       "[Category 0, Category 0, Category 0, Category 0, Category 0]...\n",
       "Path: /home/jupyter/urdu/classification\n",
       "x: LMTextList (3731 items)\n",
       "[Text ▁ xx bo s ▁بھوپال ▁شیل ٹر ▁ہو م ▁ری پ ▁معاملہ ▁: ▁آپریٹر ▁کی ▁درند گی ▁سے ▁تین ▁بچی وں ▁کی ▁ہوئی ▁موت, Text ▁ xx bo s ▁دہلی ▁: ▁گر ل ▁فری نڈ ▁دوسرے ▁لڑکی ▁سے ▁بڑھا ▁رہی ▁تھی ▁دوستی ▁ ، ▁بوائے ▁فری نڈ ▁نے ▁کردی ▁یہ ▁وحشی انہ ▁حرکت, Text ▁ xx bo s ▁موبائل ▁پر ▁رات ▁بھر ▁ویڈیوز ▁دیکھ ▁رہی ▁تھی ▁بیوی ▁ ، ▁شوہر ▁نے ▁اٹھایا ▁یہ ▁خوفناک ▁قدم ▁ ، ▁جان ▁کر ▁اڑ ج ائیں ▁گے ▁ہوش, Text ▁ xx bo s ▁ور اٹ ▁کو ہلی ▁نے ▁پورے ▁کئے ▁1 0،000 ▁رن ▁تو بیو ی ▁انوش کا ▁شرما نے ▁سوشل ▁میڈیا ▁پر کہ ہ ▁دیا ▁یہ ▁ xx re p ▁7 ▁۔, Text ▁ xx bo s ▁ رنبیر ▁کپور ▁سے ▁عالیہ ▁بھٹ ▁کے ▁رشتہ ▁کو ▁لے ▁کر ▁مہیش ▁بھٹ ▁نے ▁کہ ی ▁یہ ▁بڑی ▁بات]...\n",
       "Path: /home/jupyter/urdu/classification;\n",
       "\n",
       "Valid: LabelList\n",
       "y: LMLabel (933 items)\n",
       "[Category 0, Category 0, Category 0, Category 0, Category 0]...\n",
       "Path: /home/jupyter/urdu/classification\n",
       "x: LMTextList (933 items)\n",
       "[Text ▁ xx bo s ▁کپ ل ▁شرما ▁نے ▁سنی ل ▁گروو ر ▁کو ▁جو تا ▁پھینک ▁کر ▁مارا ، ▁لگائے ▁تھے ▁تھ پڑ, Text ▁ xx bo s ▁محنت ▁سے ▁سب ▁کچھ ▁ممکن ، ▁محنت ▁ہی ▁کامیابی ▁کی ▁کنجی ▁ہے : ▁ور اٹ ▁کو ہلی, Text ▁ xx bo s ▁سلمان ▁خان ▁سمیت ▁بالی ▁ووڈ ▁کے ▁یہ ▁7 ▁فلم ▁اسٹار س ، ▁جو ▁آج ▁بھی ▁کر ▁رہے ▁ہیں ▁اپنے ▁ہم ▁سفر ▁کا ▁انتظار, Text ▁ xx bo s ▁پر ینی تی ▁چوپڑا ▁نے ▁جو تا ▁چر ائی ▁کی ▁رسم ▁میں ▁جی جو ▁نک ▁سے ▁مانگے ▁ا تنے ▁لاکھ ▁روپ ئے, Text ▁ xx bo s ▁شہنشاہ ▁جذبات ▁دلیپ ▁کمار ▁اور ▁ملکہ ▁ح ُ سن ▁سائ رہ ▁بانو ▁کی ▁شادی ▁کی ▁طلائی ▁سالگرہ]...\n",
       "Path: /home/jupyter/urdu/classification;\n",
       "\n",
       "Test: None, model=SequentialRNN(\n",
       "  (0): RNNCore(\n",
       "    (encoder): Embedding(30000, 400, padding_idx=1)\n",
       "    (encoder_dp): EmbeddingDropout(\n",
       "      (emb): Embedding(30000, 400, padding_idx=1)\n",
       "    )\n",
       "    (rnns): ModuleList(\n",
       "      (0): WeightDropout(\n",
       "        (module): LSTM(400, 1150, batch_first=True)\n",
       "      )\n",
       "      (1): WeightDropout(\n",
       "        (module): LSTM(1150, 1150, batch_first=True)\n",
       "      )\n",
       "      (2): WeightDropout(\n",
       "        (module): LSTM(1150, 400, batch_first=True)\n",
       "      )\n",
       "    )\n",
       "    (input_dp): RNNDropout()\n",
       "    (hidden_dps): ModuleList(\n",
       "      (0): RNNDropout()\n",
       "      (1): RNNDropout()\n",
       "      (2): RNNDropout()\n",
       "    )\n",
       "  )\n",
       "  (1): LinearDecoder(\n",
       "    (decoder): Linear(in_features=400, out_features=30000, bias=True)\n",
       "    (output_dp): RNNDropout()\n",
       "  )\n",
       "), opt_func=functools.partial(<class 'torch.optim.adam.Adam'>, betas=(0.9, 0.99)), loss_func=<fastai.layers.FlattenedLoss object at 0x7f1fd67cb128>, metrics=[<function accuracy at 0x7f1f873c4158>], true_wd=True, bn_wd=True, wd=0.01, train_bn=True, path=PosixPath('/home/jupyter/urdu/classification'), model_dir='models', callback_fns=[<class 'fastai.basic_train.Recorder'>], callbacks=[RNNTrainer\n",
       "learn: LanguageLearner(data=TextLMDataBunch;\n",
       "\n",
       "Train: LabelList\n",
       "y: LMLabel (3731 items)\n",
       "[Category 0, Category 0, Category 0, Category 0, Category 0]...\n",
       "Path: /home/jupyter/urdu/classification\n",
       "x: LMTextList (3731 items)\n",
       "[Text ▁ xx bo s ▁بھوپال ▁شیل ٹر ▁ہو م ▁ری پ ▁معاملہ ▁: ▁آپریٹر ▁کی ▁درند گی ▁سے ▁تین ▁بچی وں ▁کی ▁ہوئی ▁موت, Text ▁ xx bo s ▁دہلی ▁: ▁گر ل ▁فری نڈ ▁دوسرے ▁لڑکی ▁سے ▁بڑھا ▁رہی ▁تھی ▁دوستی ▁ ، ▁بوائے ▁فری نڈ ▁نے ▁کردی ▁یہ ▁وحشی انہ ▁حرکت, Text ▁ xx bo s ▁موبائل ▁پر ▁رات ▁بھر ▁ویڈیوز ▁دیکھ ▁رہی ▁تھی ▁بیوی ▁ ، ▁شوہر ▁نے ▁اٹھایا ▁یہ ▁خوفناک ▁قدم ▁ ، ▁جان ▁کر ▁اڑ ج ائیں ▁گے ▁ہوش, Text ▁ xx bo s ▁ور اٹ ▁کو ہلی ▁نے ▁پورے ▁کئے ▁1 0،000 ▁رن ▁تو بیو ی ▁انوش کا ▁شرما نے ▁سوشل ▁میڈیا ▁پر کہ ہ ▁دیا ▁یہ ▁ xx re p ▁7 ▁۔, Text ▁ xx bo s ▁ رنبیر ▁کپور ▁سے ▁عالیہ ▁بھٹ ▁کے ▁رشتہ ▁کو ▁لے ▁کر ▁مہیش ▁بھٹ ▁نے ▁کہ ی ▁یہ ▁بڑی ▁بات]...\n",
       "Path: /home/jupyter/urdu/classification;\n",
       "\n",
       "Valid: LabelList\n",
       "y: LMLabel (933 items)\n",
       "[Category 0, Category 0, Category 0, Category 0, Category 0]...\n",
       "Path: /home/jupyter/urdu/classification\n",
       "x: LMTextList (933 items)\n",
       "[Text ▁ xx bo s ▁کپ ل ▁شرما ▁نے ▁سنی ل ▁گروو ر ▁کو ▁جو تا ▁پھینک ▁کر ▁مارا ، ▁لگائے ▁تھے ▁تھ پڑ, Text ▁ xx bo s ▁محنت ▁سے ▁سب ▁کچھ ▁ممکن ، ▁محنت ▁ہی ▁کامیابی ▁کی ▁کنجی ▁ہے : ▁ور اٹ ▁کو ہلی, Text ▁ xx bo s ▁سلمان ▁خان ▁سمیت ▁بالی ▁ووڈ ▁کے ▁یہ ▁7 ▁فلم ▁اسٹار س ، ▁جو ▁آج ▁بھی ▁کر ▁رہے ▁ہیں ▁اپنے ▁ہم ▁سفر ▁کا ▁انتظار, Text ▁ xx bo s ▁پر ینی تی ▁چوپڑا ▁نے ▁جو تا ▁چر ائی ▁کی ▁رسم ▁میں ▁جی جو ▁نک ▁سے ▁مانگے ▁ا تنے ▁لاکھ ▁روپ ئے, Text ▁ xx bo s ▁شہنشاہ ▁جذبات ▁دلیپ ▁کمار ▁اور ▁ملکہ ▁ح ُ سن ▁سائ رہ ▁بانو ▁کی ▁شادی ▁کی ▁طلائی ▁سالگرہ]...\n",
       "Path: /home/jupyter/urdu/classification;\n",
       "\n",
       "Test: None, model=SequentialRNN(\n",
       "  (0): RNNCore(\n",
       "    (encoder): Embedding(30000, 400, padding_idx=1)\n",
       "    (encoder_dp): EmbeddingDropout(\n",
       "      (emb): Embedding(30000, 400, padding_idx=1)\n",
       "    )\n",
       "    (rnns): ModuleList(\n",
       "      (0): WeightDropout(\n",
       "        (module): LSTM(400, 1150, batch_first=True)\n",
       "      )\n",
       "      (1): WeightDropout(\n",
       "        (module): LSTM(1150, 1150, batch_first=True)\n",
       "      )\n",
       "      (2): WeightDropout(\n",
       "        (module): LSTM(1150, 400, batch_first=True)\n",
       "      )\n",
       "    )\n",
       "    (input_dp): RNNDropout()\n",
       "    (hidden_dps): ModuleList(\n",
       "      (0): RNNDropout()\n",
       "      (1): RNNDropout()\n",
       "      (2): RNNDropout()\n",
       "    )\n",
       "  )\n",
       "  (1): LinearDecoder(\n",
       "    (decoder): Linear(in_features=400, out_features=30000, bias=True)\n",
       "    (output_dp): RNNDropout()\n",
       "  )\n",
       "), opt_func=functools.partial(<class 'torch.optim.adam.Adam'>, betas=(0.9, 0.99)), loss_func=<fastai.layers.FlattenedLoss object at 0x7f1fd67cb128>, metrics=[<function accuracy at 0x7f1f873c4158>], true_wd=True, bn_wd=True, wd=0.01, train_bn=True, path=PosixPath('/home/jupyter/urdu/classification'), model_dir='models', callback_fns=[<class 'fastai.basic_train.Recorder'>], callbacks=[...], layer_groups=[Sequential(\n",
       "  (0): WeightDropout(\n",
       "    (module): LSTM(400, 1150, batch_first=True)\n",
       "  )\n",
       "  (1): RNNDropout()\n",
       "), Sequential(\n",
       "  (0): WeightDropout(\n",
       "    (module): LSTM(1150, 1150, batch_first=True)\n",
       "  )\n",
       "  (1): RNNDropout()\n",
       "), Sequential(\n",
       "  (0): WeightDropout(\n",
       "    (module): LSTM(1150, 400, batch_first=True)\n",
       "  )\n",
       "  (1): RNNDropout()\n",
       "), Sequential(\n",
       "  (0): Embedding(30000, 400, padding_idx=1)\n",
       "  (1): EmbeddingDropout(\n",
       "    (emb): Embedding(30000, 400, padding_idx=1)\n",
       "  )\n",
       "  (2): LinearDecoder(\n",
       "    (decoder): Linear(in_features=400, out_features=30000, bias=True)\n",
       "    (output_dp): RNNDropout()\n",
       "  )\n",
       ")])\n",
       "bptt: 70\n",
       "alpha: 2.0\n",
       "beta: 1.0], layer_groups=[Sequential(\n",
       "  (0): WeightDropout(\n",
       "    (module): LSTM(400, 1150, batch_first=True)\n",
       "  )\n",
       "  (1): RNNDropout()\n",
       "), Sequential(\n",
       "  (0): WeightDropout(\n",
       "    (module): LSTM(1150, 1150, batch_first=True)\n",
       "  )\n",
       "  (1): RNNDropout()\n",
       "), Sequential(\n",
       "  (0): WeightDropout(\n",
       "    (module): LSTM(1150, 400, batch_first=True)\n",
       "  )\n",
       "  (1): RNNDropout()\n",
       "), Sequential(\n",
       "  (0): Embedding(30000, 400, padding_idx=1)\n",
       "  (1): EmbeddingDropout(\n",
       "    (emb): Embedding(30000, 400, padding_idx=1)\n",
       "  )\n",
       "  (2): LinearDecoder(\n",
       "    (decoder): Linear(in_features=400, out_features=30000, bias=True)\n",
       "    (output_dp): RNNDropout()\n",
       "  )\n",
       ")])"
      ]
     },
     "execution_count": 28,
     "metadata": {},
     "output_type": "execute_result"
    }
   ],
   "source": [
    "# Loading the pretrained language model on urdu wikipedia\n",
    "learn.load('/home/jupyter/urdu/UrduDataset/models/fourth-ur-lm', with_opt=True)"
   ]
  },
  {
   "cell_type": "code",
   "execution_count": 29,
   "metadata": {},
   "outputs": [],
   "source": [
    "# Fine tuning the prtrained LM on current dataset"
   ]
  },
  {
   "cell_type": "code",
   "execution_count": 30,
   "metadata": {},
   "outputs": [
    {
     "data": {
      "text/html": [],
      "text/plain": [
       "<IPython.core.display.HTML object>"
      ]
     },
     "metadata": {},
     "output_type": "display_data"
    },
    {
     "name": "stdout",
     "output_type": "stream",
     "text": [
      "LR Finder is complete, type {learner_name}.recorder.plot() to see the graph.\n"
     ]
    }
   ],
   "source": [
    "learn.lr_find()"
   ]
  },
  {
   "cell_type": "code",
   "execution_count": 31,
   "metadata": {},
   "outputs": [
    {
     "data": {
      "image/png": "[encoded data removed]",
      "text/plain": [
       "<Figure size 432x288 with 1 Axes>"
      ]
     },
     "metadata": {},
     "output_type": "display_data"
    }
   ],
   "source": [
    "learn.recorder.plot()"
   ]
  },
  {
   "cell_type": "code",
   "execution_count": 32,
   "metadata": {},
   "outputs": [],
   "source": [
    "learn.freeze()"
   ]
  },
  {
   "cell_type": "code",
   "execution_count": 33,
   "metadata": {},
   "outputs": [
    {
     "data": {
      "text/html": [
       "Total time: 00:07 <p><table border=\"1\" class=\"dataframe\">\n",
       "  <thead>\n",
       "    <tr style=\"text-align: left;\">\n",
       "      <th>epoch</th>\n",
       "      <th>train_loss</th>\n",
       "      <th>valid_loss</th>\n",
       "      <th>accuracy</th>\n",
       "    </tr>\n",
       "  </thead>\n",
       "  <tbody>\n",
       "    <tr>\n",
       "      <td>1</td>\n",
       "      <td>5.432653</td>\n",
       "      <td>4.942446</td>\n",
       "      <td>0.268112</td>\n",
       "    </tr>\n",
       "  </tbody>\n",
       "</table>"
      ],
      "text/plain": [
       "<IPython.core.display.HTML object>"
      ]
     },
     "metadata": {},
     "output_type": "display_data"
    }
   ],
   "source": [
    "learn.fit_one_cycle(1, 1e-2, moms=(0.8,0.7))"
   ]
  },
  {
   "cell_type": "code",
   "execution_count": 34,
   "metadata": {},
   "outputs": [],
   "source": [
    "learn.save('fit_head', with_opt=True)"
   ]
  },
  {
   "cell_type": "code",
   "execution_count": 35,
   "metadata": {},
   "outputs": [],
   "source": [
    "learn.load('fit_head', with_opt=True);"
   ]
  },
  {
   "cell_type": "code",
   "execution_count": 36,
   "metadata": {},
   "outputs": [],
   "source": [
    "learn.unfreeze()"
   ]
  },
  {
   "cell_type": "code",
   "execution_count": 37,
   "metadata": {},
   "outputs": [
    {
     "data": {
      "text/html": [
       "Total time: 01:28 <p><table border=\"1\" class=\"dataframe\">\n",
       "  <thead>\n",
       "    <tr style=\"text-align: left;\">\n",
       "      <th>epoch</th>\n",
       "      <th>train_loss</th>\n",
       "      <th>valid_loss</th>\n",
       "      <th>accuracy</th>\n",
       "    </tr>\n",
       "  </thead>\n",
       "  <tbody>\n",
       "    <tr>\n",
       "      <td>1</td>\n",
       "      <td>4.773733</td>\n",
       "      <td>4.732935</td>\n",
       "      <td>0.284779</td>\n",
       "    </tr>\n",
       "    <tr>\n",
       "      <td>2</td>\n",
       "      <td>4.578322</td>\n",
       "      <td>4.403563</td>\n",
       "      <td>0.314484</td>\n",
       "    </tr>\n",
       "    <tr>\n",
       "      <td>3</td>\n",
       "      <td>4.329726</td>\n",
       "      <td>4.143337</td>\n",
       "      <td>0.346117</td>\n",
       "    </tr>\n",
       "    <tr>\n",
       "      <td>4</td>\n",
       "      <td>4.081027</td>\n",
       "      <td>4.009856</td>\n",
       "      <td>0.362514</td>\n",
       "    </tr>\n",
       "    <tr>\n",
       "      <td>5</td>\n",
       "      <td>3.843485</td>\n",
       "      <td>3.927437</td>\n",
       "      <td>0.374546</td>\n",
       "    </tr>\n",
       "    <tr>\n",
       "      <td>6</td>\n",
       "      <td>3.629328</td>\n",
       "      <td>3.887037</td>\n",
       "      <td>0.378416</td>\n",
       "    </tr>\n",
       "    <tr>\n",
       "      <td>7</td>\n",
       "      <td>3.441375</td>\n",
       "      <td>3.873877</td>\n",
       "      <td>0.382724</td>\n",
       "    </tr>\n",
       "    <tr>\n",
       "      <td>8</td>\n",
       "      <td>3.288971</td>\n",
       "      <td>3.868453</td>\n",
       "      <td>0.384963</td>\n",
       "    </tr>\n",
       "    <tr>\n",
       "      <td>9</td>\n",
       "      <td>3.181379</td>\n",
       "      <td>3.872345</td>\n",
       "      <td>0.386791</td>\n",
       "    </tr>\n",
       "    <tr>\n",
       "      <td>10</td>\n",
       "      <td>3.105652</td>\n",
       "      <td>3.872959</td>\n",
       "      <td>0.386281</td>\n",
       "    </tr>\n",
       "  </tbody>\n",
       "</table>"
      ],
      "text/plain": [
       "<IPython.core.display.HTML object>"
      ]
     },
     "metadata": {},
     "output_type": "display_data"
    }
   ],
   "source": [
    "learn.fit_one_cycle(10, 1e-3, moms=(0.8,0.7))"
   ]
  },
  {
   "cell_type": "code",
   "execution_count": 38,
   "metadata": {},
   "outputs": [],
   "source": [
    "learn.save('fine_tuned', with_opt=True)"
   ]
  },
  {
   "cell_type": "code",
   "execution_count": 39,
   "metadata": {},
   "outputs": [],
   "source": [
    "learn.load('fine_tuned', with_opt=True);"
   ]
  },
  {
   "cell_type": "code",
   "execution_count": 42,
   "metadata": {},
   "outputs": [
    {
     "data": {
      "text/plain": [
       "'سرحدی علاقے میں فوجی ▁ماسکو ، ▁قتل ▁کے ▁بعد ▁مگر ▁امداد ▁او ▁ مبا'"
      ]
     },
     "execution_count": 42,
     "metadata": {},
     "output_type": "execute_result"
    }
   ],
   "source": [
    "learn.predict('سرحدی علاقے میں فوجی',n_words=10)"
   ]
  },
  {
   "cell_type": "code",
   "execution_count": 43,
   "metadata": {},
   "outputs": [],
   "source": [
    "learn.save_encoder('fine_tuned_enc')"
   ]
  },
  {
   "cell_type": "code",
   "execution_count": 45,
   "metadata": {},
   "outputs": [],
   "source": [
    "data_clas = TextClasDataBunch.from_csv(path=path, csv_name='Urdu_Classification_Data_News_Headlines.csv', tokenizer=tokenizer, vocab=urdu_vocab, text_cols=[0], label_cols=label_cols)"
   ]
  },
  {
   "cell_type": "code",
   "execution_count": 46,
   "metadata": {},
   "outputs": [
    {
     "data": {
      "text/html": [
       "<table>  <col width='90%'>  <col width='10%'>  <tr>\n",
       "    <th>text</th>\n",
       "    <th>target</th>\n",
       "  </tr>\n",
       "  <tr>\n",
       "    <th>▁ xx bo s ▁اذان ▁سے ▁متعلق ▁ٹو یٹ ▁پر ▁چو طرف ہ ▁تنقید ▁کے ▁بعد ▁سو نو ▁ نگ م ▁نے ▁دی ▁صفائی ▁ ، ▁کسی ▁کو ▁لگتا ▁ہے ▁کہ ▁پیغمبر ▁اسلام ▁کی ▁تنقید ▁کی ▁ ، ▁تو ▁میں ▁معافی ▁چاہتا ▁ہوں</th>\n",
       "    <th>entertainment</th>\n",
       "  </tr>\n",
       "  <tr>\n",
       "    <th>▁ xx bo s ▁آئی ▁پی ▁ایل ▁2019 ▁: ▁99 ▁رن ▁بنانے ▁کے ▁باوجود ▁کر س ▁گیل ▁پر ▁اٹھا ▁سوال ▁ ، ▁سابق ▁کرکٹر ▁نے ▁کہا ▁: ▁ایسے ▁ بلے ▁بازوں ▁کو ▁کی وں ▁کھیل نے ▁دیا ▁جاتا ▁ہے ▁ ؟</th>\n",
       "    <th>cricket</th>\n",
       "  </tr>\n",
       "  <tr>\n",
       "    <th>▁ xx bo s ▁آئی ▁پی ▁ایل ▁2019 ▁: ▁47 ▁سال ▁کے ▁مر لی ▁دھر ن ▁کو ▁20 ▁سال ▁کے ▁راشد ▁خان ▁نے ▁دیا ▁چیلنج ▁ ، ▁پھر ▁ہوا ▁کچھ ▁ایسا ▁کہ ▁سب ▁رہ ▁گئے ▁حیران ▁ ! ۔</th>\n",
       "    <th>cricket</th>\n",
       "  </tr>\n",
       "  <tr>\n",
       "    <th>▁ xx bo s ▁شاہد ▁آفریدی ▁کا ▁دھ ماک ہ ▁ ، ▁17 ▁گیند وں ▁میں ▁بنا ▁ڈالے ▁59 ▁رن ▁ ، ▁لگائے ▁7 ▁چھ کے ▁ ، ▁اس ▁پاکستانی ▁گیند ▁باز ▁کی ▁جم ▁کر ▁کی ▁دھن ائی</th>\n",
       "    <th>cricket</th>\n",
       "  </tr>\n",
       "  <tr>\n",
       "    <th>▁ xx bo s ▁دھون ی ▁کی ▁گالی ▁کا ▁ہوتا ▁ہے ▁\" اثر \" ▁ ، ▁ایک ▁کھلاڑی ▁ہوچکا ▁ہے ▁ٹیم ▁انڈیا ▁سے ▁باہر ▁ ، ▁اب ▁تیز ▁گیند ▁باز ▁خلیل ▁احمد ▁کا ▁کیا ▁ہوگا ▁ ؟</th>\n",
       "    <th>cricket</th>\n",
       "  </tr>\n",
       "</table>\n"
      ],
      "text/plain": [
       "<IPython.core.display.HTML object>"
      ]
     },
     "metadata": {},
     "output_type": "display_data"
    }
   ],
   "source": [
    "data_clas.show_batch()"
   ]
  },
  {
   "cell_type": "code",
   "execution_count": 47,
   "metadata": {},
   "outputs": [],
   "source": [
    "data_clas.sanity_check()"
   ]
  },
  {
   "cell_type": "code",
   "execution_count": 48,
   "metadata": {},
   "outputs": [],
   "source": [
    "learn = text_classifier_learner(data_clas, drop_mult=0.5)"
   ]
  },
  {
   "cell_type": "code",
   "execution_count": 49,
   "metadata": {},
   "outputs": [],
   "source": [
    "learn.load_encoder('fine_tuned_enc')"
   ]
  },
  {
   "cell_type": "code",
   "execution_count": 50,
   "metadata": {},
   "outputs": [],
   "source": [
    "learn.freeze()"
   ]
  },
  {
   "cell_type": "code",
   "execution_count": 51,
   "metadata": {},
   "outputs": [
    {
     "data": {
      "text/html": [],
      "text/plain": [
       "<IPython.core.display.HTML object>"
      ]
     },
     "metadata": {},
     "output_type": "display_data"
    },
    {
     "name": "stdout",
     "output_type": "stream",
     "text": [
      "LR Finder is complete, type {learner_name}.recorder.plot() to see the graph.\n"
     ]
    }
   ],
   "source": [
    "learn.lr_find()"
   ]
  },
  {
   "cell_type": "code",
   "execution_count": 52,
   "metadata": {},
   "outputs": [
    {
     "data": {
      "image/png": "[encoded data removed]",
      "text/plain": [
       "<Figure size 432x288 with 1 Axes>"
      ]
     },
     "metadata": {},
     "output_type": "display_data"
    }
   ],
   "source": [
    "learn.recorder.plot()"
   ]
  },
  {
   "cell_type": "code",
   "execution_count": 53,
   "metadata": {},
   "outputs": [
    {
     "data": {
      "text/plain": [
       "CrossEntropyLoss()"
      ]
     },
     "execution_count": 53,
     "metadata": {},
     "output_type": "execute_result"
    }
   ],
   "source": [
    "learn.loss_func.func"
   ]
  },
  {
   "cell_type": "code",
   "execution_count": 54,
   "metadata": {},
   "outputs": [],
   "source": [
    "kappa = KappaScore()"
   ]
  },
  {
   "cell_type": "code",
   "execution_count": 55,
   "metadata": {},
   "outputs": [],
   "source": [
    "learn.metrics = [kappa, accuracy]"
   ]
  },
  {
   "cell_type": "code",
   "execution_count": 56,
   "metadata": {},
   "outputs": [
    {
     "data": {
      "text/html": [
       "Total time: 00:03 <p><table border=\"1\" class=\"dataframe\">\n",
       "  <thead>\n",
       "    <tr style=\"text-align: left;\">\n",
       "      <th>epoch</th>\n",
       "      <th>train_loss</th>\n",
       "      <th>valid_loss</th>\n",
       "      <th>kappa_score</th>\n",
       "      <th>accuracy</th>\n",
       "    </tr>\n",
       "  </thead>\n",
       "  <tbody>\n",
       "    <tr>\n",
       "      <td>1</td>\n",
       "      <td>0.494641</td>\n",
       "      <td>0.265806</td>\n",
       "      <td>0.826078</td>\n",
       "      <td>0.904609</td>\n",
       "    </tr>\n",
       "  </tbody>\n",
       "</table>"
      ],
      "text/plain": [
       "<IPython.core.display.HTML object>"
      ]
     },
     "metadata": {},
     "output_type": "display_data"
    }
   ],
   "source": [
    "learn.fit_one_cycle(1, 1e-1, moms=(0.8,0.7))"
   ]
  },
  {
   "cell_type": "code",
   "execution_count": 57,
   "metadata": {},
   "outputs": [],
   "source": [
    "learn.save('first-full')"
   ]
  },
  {
   "cell_type": "code",
   "execution_count": 58,
   "metadata": {},
   "outputs": [],
   "source": [
    "learn.load('first-full');"
   ]
  },
  {
   "cell_type": "code",
   "execution_count": 59,
   "metadata": {},
   "outputs": [
    {
     "data": {
      "text/html": [
       "Total time: 00:20 <p><table border=\"1\" class=\"dataframe\">\n",
       "  <thead>\n",
       "    <tr style=\"text-align: left;\">\n",
       "      <th>epoch</th>\n",
       "      <th>train_loss</th>\n",
       "      <th>valid_loss</th>\n",
       "      <th>kappa_score</th>\n",
       "      <th>accuracy</th>\n",
       "    </tr>\n",
       "  </thead>\n",
       "  <tbody>\n",
       "    <tr>\n",
       "      <td>1</td>\n",
       "      <td>0.365159</td>\n",
       "      <td>0.223123</td>\n",
       "      <td>0.877966</td>\n",
       "      <td>0.931404</td>\n",
       "    </tr>\n",
       "    <tr>\n",
       "      <td>2</td>\n",
       "      <td>0.316919</td>\n",
       "      <td>0.196533</td>\n",
       "      <td>0.886195</td>\n",
       "      <td>0.935691</td>\n",
       "    </tr>\n",
       "    <tr>\n",
       "      <td>3</td>\n",
       "      <td>0.265647</td>\n",
       "      <td>0.189031</td>\n",
       "      <td>0.883296</td>\n",
       "      <td>0.934619</td>\n",
       "    </tr>\n",
       "    <tr>\n",
       "      <td>4</td>\n",
       "      <td>0.209994</td>\n",
       "      <td>0.169795</td>\n",
       "      <td>0.900221</td>\n",
       "      <td>0.944266</td>\n",
       "    </tr>\n",
       "    <tr>\n",
       "      <td>5</td>\n",
       "      <td>0.163528</td>\n",
       "      <td>0.169292</td>\n",
       "      <td>0.898201</td>\n",
       "      <td>0.943194</td>\n",
       "    </tr>\n",
       "  </tbody>\n",
       "</table>"
      ],
      "text/plain": [
       "<IPython.core.display.HTML object>"
      ]
     },
     "metadata": {},
     "output_type": "display_data"
    }
   ],
   "source": [
    "learn.freeze_to(-2)\n",
    "learn.fit_one_cycle(5, slice(1e-2/(2.6**4),1e-2), moms=(0.8,0.7))"
   ]
  },
  {
   "cell_type": "code",
   "execution_count": 60,
   "metadata": {},
   "outputs": [],
   "source": [
    "learn.save('final')"
   ]
  },
  {
   "cell_type": "code",
   "execution_count": 63,
   "metadata": {},
   "outputs": [
    {
     "data": {
      "text/plain": [
       "(Category crime, tensor(1), tensor([0.0133, 0.9458, 0.0409]))"
      ]
     },
     "execution_count": 63,
     "metadata": {},
     "output_type": "execute_result"
    }
   ],
   "source": [
    "learn.predict('شاکنگ ایکسپریس وے میں خواتین کوچा')"
   ]
  },
  {
   "cell_type": "code",
   "execution_count": 65,
   "metadata": {},
   "outputs": [
    {
     "data": {
      "text/plain": [
       "(Category crime, tensor(1), tensor([1.1423e-04, 9.7858e-01, 2.1310e-02]))"
      ]
     },
     "execution_count": 65,
     "metadata": {},
     "output_type": "execute_result"
    }
   ],
   "source": [
    "learn.predict(\"ایک موٹی بریک پر انسان کو چوروں میں موٹر سائیکل کھو دیتا ہے\")"
   ]
  },
  {
   "cell_type": "code",
   "execution_count": 61,
   "metadata": {},
   "outputs": [
    {
     "data": {
      "text/plain": [
       "(Category entertainment, tensor(2), tensor([0.0062, 0.0024, 0.9915]))"
      ]
     },
     "execution_count": 61,
     "metadata": {},
     "output_type": "execute_result"
    }
   ],
   "source": [
    "learn.predict(\"کیا سلمان نے اپنا اپنا چینل بنایا؟\")"
   ]
  },
  {
   "cell_type": "code",
   "execution_count": 62,
   "metadata": {},
   "outputs": [
    {
     "data": {
      "text/plain": [
       "(Category cricket, tensor(0), tensor([0.9468, 0.0017, 0.0515]))"
      ]
     },
     "execution_count": 62,
     "metadata": {},
     "output_type": "execute_result"
    }
   ],
   "source": [
    "learn.predict(\"ڈھاما کیڈر! یہ ٹیم بھارت کے لئے بہترین کارکردگی ہےी\")"
   ]
  },
  {
   "cell_type": "code",
   "execution_count": null,
   "metadata": {},
   "outputs": [],
   "source": []
  }
 ],
 "metadata": {
  "kernelspec": {
   "display_name": "Python 3",
   "language": "python",
   "name": "python3"
  },
  "language_info": {
   "codemirror_mode": {
    "name": "ipython",
    "version": 3
   },
   "file_extension": ".py",
   "mimetype": "text/x-python",
   "name": "python",
   "nbconvert_exporter": "python",
   "pygments_lexer": "ipython3",
   "version": "3.6.5"
  }
 },
 "nbformat": 4,
 "nbformat_minor": 2
}
